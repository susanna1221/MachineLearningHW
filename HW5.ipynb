{
  "nbformat": 4,
  "nbformat_minor": 0,
  "metadata": {
    "colab": {
      "name": "HW5-final.ipynb",
      "provenance": []
    },
    "kernelspec": {
      "name": "python3",
      "display_name": "Python 3"
    }
  },
  "cells": [
    {
      "cell_type": "code",
      "metadata": {
        "id": "SvRyneEU4uze",
        "colab_type": "code",
        "outputId": "f20446d7-b065-4e26-f628-9caaab0a66e4",
        "colab": {
          "resources": {
            "http://localhost:8080/nbextensions/google.colab/files.js": {
              "data": "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",
              "ok": true,
              "headers": [
                [
                  "content-type",
                  "application/javascript"
                ]
              ],
              "status": 200,
              "status_text": ""
            }
          },
          "base_uri": "https://localhost:8080/",
          "height": 79
        }
      },
      "source": [
        "from google.colab import files\n",
        "uploaded = files.upload()"
      ],
      "execution_count": 2,
      "outputs": [
        {
          "output_type": "display_data",
          "data": {
            "text/html": [
              "\n",
              "     <input type=\"file\" id=\"files-d63c6c62-13e4-4bcd-9f7c-8ef06488c52d\" name=\"files[]\" multiple disabled />\n",
              "     <output id=\"result-d63c6c62-13e4-4bcd-9f7c-8ef06488c52d\">\n",
              "      Upload widget is only available when the cell has been executed in the\n",
              "      current browser session. Please rerun this cell to enable.\n",
              "      </output>\n",
              "      <script src=\"/nbextensions/google.colab/files.js\"></script> "
            ],
            "text/plain": [
              "<IPython.core.display.HTML object>"
            ]
          },
          "metadata": {
            "tags": []
          }
        },
        {
          "output_type": "stream",
          "text": [
            "Saving data-nonlinear.txt to data-nonlinear.txt\n"
          ],
          "name": "stdout"
        }
      ]
    },
    {
      "cell_type": "code",
      "metadata": {
        "id": "MVZCv3Lc4ort",
        "colab_type": "code",
        "colab": {}
      },
      "source": [
        "import numpy as np \n",
        "from matplotlib import pyplot as plt \n",
        "import csv\n",
        "import copy\n",
        "import math\n",
        "from sympy import * \n",
        "init_printing(use_latex='mathjax')\n",
        "\n",
        "from IPython.display import display\n",
        "\n",
        "#compute z\n",
        "def compute_z (theta, data):\n",
        "  z = np.dot(data,np.transpose(theta))\n",
        "  return z\n",
        "\n",
        "\n",
        "#compute prediction\n",
        "def compute_prediction (theta,data):\n",
        "  z=[]\n",
        "  for i in range(len(data)):\n",
        "    z.append(compute_z(theta,data[i]))\n",
        "  prediction = []\n",
        "  for i in range(len(z)):\n",
        "    prediction.append(1.0/(1+np.exp(-z[i])))\n",
        "\n",
        "  return prediction\n",
        "\n",
        "\n",
        "# Objective Function\n",
        "def compute_cost(theta, data, l):\n",
        "  m = float(len(l))\n",
        "  prediction = compute_prediction(theta, data)\n",
        "  prediction=np.array(prediction)\n",
        "  l=np.array(l)\n",
        "  \n",
        "  J = (1/m)*(np.sum(-l*np.log(prediction)-(1-l)*np.log(1-prediction)))\n",
        "  \n",
        "  return J\n",
        "\n",
        "# get theta, theta_history, J_history, accuracy_history\n",
        "def compute_theta(theta, data, l, alpha, num):\n",
        "  m = float(len(data))\n",
        "  data_x=[]\n",
        "  data_y=[]\n",
        "  data_z=[]\n",
        "  data_a=[]\n",
        "  data_b=[]\n",
        "  data_c=[]\n",
        "  data_d=[]\n",
        "\n",
        "\n",
        "  for i in range(int(m)):\n",
        "    data_x.append(copy.deepcopy(data[i][1]))\n",
        "    data_y.append(copy.deepcopy(data[i][2]))\n",
        "    data_z.append(copy.deepcopy(data[i][3]))\n",
        "    data_a.append(copy.deepcopy(data[i][4]))\n",
        "    data_b.append(copy.deepcopy(data[i][5]))\n",
        "    data_c.append(copy.deepcopy(data[i][6]))\n",
        "    data_d.append(copy.deepcopy(data[i][7]))\n",
        "\n",
        "    \n",
        "\n",
        "  J_history=[]\n",
        "  theta_history=[]\n",
        "  accuracy_history=[]\n",
        "  J_history.append(compute_cost(theta,data, l))\n",
        "  theta_history.append(copy.deepcopy(theta))\n",
        "  t = 0 \n",
        "  pd = compute_prediction(theta,data)\n",
        "  for i in range(len(pd)):\n",
        "    if pd[i] >= 0.5:\n",
        "      if l[i]==1:\n",
        "        t += 1\n",
        "    else:\n",
        "      if l[i]==0:\n",
        "        t += 1\n",
        "  accuracy_history.append(copy.deepcopy(t))\n",
        "\n",
        "\n",
        " \n",
        "  for i in range(num):\n",
        "    prediction = compute_prediction(theta,data)\n",
        "    prediction = np.array(prediction)\n",
        "    l = np.array(l)\n",
        "    loss = prediction - l\n",
        "\n",
        "    t = 0 \n",
        "    for j in range(len(prediction)):\n",
        "      if prediction[j] >= 0.5:\n",
        "        if l[j]==1:\n",
        "          t += 1\n",
        "      else:\n",
        "        if l[j]==0:\n",
        "          t += 1\n",
        "    accuracy_history.append(copy.deepcopy(t))\n",
        "    t = 0\n",
        "   \n",
        "    t0 = alpha*(1/m)*np.sum(loss)\n",
        "    t1 = alpha*(1/m)*np.sum(loss*data_x)\n",
        "    t2 = alpha*(1/m)*np.sum(loss*data_y)\n",
        "    t3 = alpha*(1/m)*np.sum(loss*data_z)\n",
        "    t4 = alpha*(1/m)*np.sum(loss*data_a)\n",
        "    t5 = alpha*(1/m)*np.sum(loss*data_b)\n",
        "    t6 = alpha*(1/m)*np.sum(loss*data_c)\n",
        "    t7 = alpha*(1/m)*np.sum(loss*data_d)\n",
        "    \n",
        "    \n",
        "    theta[0]-=t0\n",
        "    theta[1]-=t1\n",
        "    theta[2]-=t2\n",
        "    theta[3]-=t3\n",
        "    theta[4]-=t4\n",
        "    theta[5]-=t5\n",
        "    theta[6]-=t6\n",
        "    theta[7]-=t7\n",
        "    \n",
        "    J_history.append(compute_cost(theta, data, l))\n",
        "    theta_history.append(copy.deepcopy(theta))\n",
        "\n",
        "  return theta, theta_history, J_history ,accuracy_history\n",
        "\n",
        "\n",
        "\n",
        "data    = np.genfromtxt(\"data-nonlinear.txt\", delimiter=',')\n",
        "\n",
        "pointX  = data[:, 0]\n",
        "pointY  = data[:, 1]\n",
        "label   = data[:, 2]\n",
        "\n",
        "pointX0 = pointX[label == 0]\n",
        "pointY0 = pointY[label == 0]\n",
        "\n",
        "pointX1 = pointX[label == 1]\n",
        "pointY1 = pointY[label == 1]\n",
        "\n",
        "\n",
        "\n",
        "train_data=[]\n",
        "data_label=[]\n",
        "temp=[]\n",
        "\n",
        "for i in range(len(pointX)):\n",
        "  temp.append(1)\n",
        "  temp.append(copy.deepcopy(pointX[i]**2))\n",
        "  temp.append(copy.deepcopy(pointY[i]**2))\n",
        "  temp.append(copy.deepcopy(pointX[i]*pointY[i]))\n",
        "  temp.append(copy.deepcopy(pointX[i]))\n",
        "  temp.append(copy.deepcopy(pointY[i]))\n",
        "  temp.append(copy.deepcopy(pointX[i]**3))\n",
        "  temp.append(copy.deepcopy(pointY[i]**3))\n",
        " \n",
        "  data_label.append(copy.deepcopy(label[i]))\n",
        "  train_data.append(copy.deepcopy(temp))\n",
        "  temp.clear()\n",
        "\n",
        "\n",
        "#theta[0] + theta[1]x^2 + theta[2]y^2 + theta[3]xy + theta[4]x + theta[5]y + theta[6]x^3 + theta[7]y^3 = 0\n",
        "tt=[2, -8, -10, -4, 4, 1, 0.1, 0.1]\n",
        "alpha = 0.1\n",
        "num = 3000\n",
        "\n",
        "tt, theta_h, cost_h, accuracy_h = compute_theta(tt, train_data, data_label, alpha, num)\n",
        "accuracy_rate=[]\n",
        "for i in range(len(accuracy_h)):\n",
        "  accuracy_rate.append(copy.deepcopy(accuracy_h[i]/len(train_data)))\n",
        "\n",
        "\n",
        "x, y = symbols('x y')\n",
        "t1, t2, t3, t4, t5, t6, t7, t8 = symbols('\\\\theta_{0} \\\\theta_{1} \\\\theta_{2} \\\\theta_{3} \\\\theta_{4} \\\\theta_{5} \\\\theta_{6} \\\\theta_{7}')\n",
        "expr = t1+ t2*x**2 + t3*y**2 + t4*x*y + t5*x + t6*y + t7*x**3 + t8*y**3\n",
        "expr_theta = expr.subs(t1,tt[0])\n",
        "expr_theta = expr_theta.subs(t2,tt[1])\n",
        "expr_theta = expr_theta.subs(t3,tt[2])\n",
        "expr_theta = expr_theta.subs(t4,tt[3])\n",
        "expr_theta = expr_theta.subs(t5,tt[4])\n",
        "expr_theta = expr_theta.subs(t6,tt[5])\n",
        "expr_theta = expr_theta.subs(t7,tt[6])\n",
        "expr_theta = expr_theta.subs(t8,tt[7])\n",
        "\n",
        "\n",
        "\n",
        "\n"
      ],
      "execution_count": 0,
      "outputs": []
    },
    {
      "cell_type": "markdown",
      "metadata": {
        "id": "AUs5tJBc1oPQ",
        "colab_type": "text"
      },
      "source": [
        "#1. Plot the data"
      ]
    },
    {
      "cell_type": "code",
      "metadata": {
        "id": "or1TibB7TgSD",
        "colab_type": "code",
        "outputId": "85895781-517f-4945-d299-d588692bbfef",
        "colab": {
          "base_uri": "https://localhost:8080/",
          "height": 559
        }
      },
      "source": [
        "#plot the data\n",
        "\n",
        "plt.figure(figsize=(8, 8))\n",
        "plt.scatter(pointX0, pointY0, c='b')\n",
        "plt.scatter(pointX1, pointY1, c='r')\n",
        "plt.tight_layout()\n",
        "plt.gca().set_aspect('equal', adjustable='box')\n",
        "plt.show()\n"
      ],
      "execution_count": 30,
      "outputs": [
        {
          "output_type": "display_data",
          "data": {
            "image/png": "[encoded data removed]",
            "text/plain": [
              "<Figure size 576x576 with 1 Axes>"
            ]
          },
          "metadata": {
            "tags": [],
            "needs_background": "light"
          }
        }
      ]
    },
    {
      "cell_type": "markdown",
      "metadata": {
        "id": "PFJyqhxg13M9",
        "colab_type": "text"
      },
      "source": [
        "#2. High dimensional function\n",
        "$$(1)g(x,\\,y;\\,{\\theta})$$\n",
        "$$(2)g(x,\\,y;\\,{\\theta})에\\;구한\\;{\\theta}\\;대입$$\n"
      ]
    },
    {
      "cell_type": "code",
      "metadata": {
        "id": "VBxkMaTlTrFT",
        "colab_type": "code",
        "outputId": "6c51a507-b5a0-456a-dbdd-a8d0f1a08141",
        "colab": {
          "base_uri": "https://localhost:8080/",
          "height": 69
        }
      },
      "source": [
        "#high dimensional function\n",
        "\n",
        "display(expr)\n",
        "display(expr_theta)\n",
        "\n"
      ],
      "execution_count": 31,
      "outputs": [
        {
          "output_type": "display_data",
          "data": {
            "text/latex": "$$\\theta_{0} + \\theta_{1} x^{2} + \\theta_{2} y^{2} + \\theta_{3} x y + \\theta_{4} x + \\theta_{5} y + \\theta_{6} x^{3} + \\theta_{7} y^{3}$$",
            "text/plain": [
              "                         2               2                                    \n",
              "\\theta_{0} + \\theta_{1}⋅x  + \\theta_{2}⋅y  + \\theta_{3}⋅x⋅y + \\theta_{4}⋅x + \\\n",
              "\n",
              "                          3               3\n",
              "theta_{5}⋅y + \\theta_{6}⋅x  + \\theta_{7}⋅y "
            ]
          },
          "metadata": {
            "tags": []
          }
        },
        {
          "output_type": "display_data",
          "data": {
            "text/latex": "$$- 0.858278421123396 x^{3} - 9.21781019823284 x^{2} - 5.31111410636801 x y + 2.69846895080474 x + 0.0943412893043306 y^{3} - 9.30008950176457 y^{2} + 3.12261365125941 y + 4.09728419670468$$",
            "text/plain": [
              "                     3                     2                                  \n",
              "- 0.858278421123396⋅x  - 9.21781019823284⋅x  - 5.31111410636801⋅x⋅y + 2.698468\n",
              "\n",
              "                                 3                     2                      \n",
              "95080474⋅x + 0.0943412893043306⋅y  - 9.30008950176457⋅y  + 3.12261365125941⋅y \n",
              "\n",
              "                  \n",
              "+ 4.09728419670468"
            ]
          },
          "metadata": {
            "tags": []
          }
        }
      ]
    },
    {
      "cell_type": "markdown",
      "metadata": {
        "id": "qQFAgKdo1-Mc",
        "colab_type": "text"
      },
      "source": [
        "#3. Plot the training error"
      ]
    },
    {
      "cell_type": "code",
      "metadata": {
        "id": "EnF3yDWzOmRy",
        "colab_type": "code",
        "outputId": "c56e8c99-8417-49e0-955d-50ac59b26286",
        "colab": {
          "base_uri": "https://localhost:8080/",
          "height": 483
        }
      },
      "source": [
        "#Plot the training error\n",
        "\n",
        "plt.figure(figsize=(8, 8))\n",
        "plt.scatter(range(num+1), cost_h, c='blue')\n",
        "plt.show()\n"
      ],
      "execution_count": 32,
      "outputs": [
        {
          "output_type": "display_data",
          "data": {
            "image/png": "[encoded data removed]",
            "text/plain": [
              "<Figure size 576x576 with 1 Axes>"
            ]
          },
          "metadata": {
            "tags": [],
            "needs_background": "light"
          }
        }
      ]
    },
    {
      "cell_type": "markdown",
      "metadata": {
        "id": "QhOz2Y5g2BW_",
        "colab_type": "text"
      },
      "source": [
        "#4. Plot the training accuracy"
      ]
    },
    {
      "cell_type": "code",
      "metadata": {
        "id": "Yjq3pnlQO2CX",
        "colab_type": "code",
        "outputId": "0fdc2763-543e-4ebe-ce08-c4ef052fd802",
        "colab": {
          "base_uri": "https://localhost:8080/",
          "height": 483
        }
      },
      "source": [
        "#Plot the training accuracy\n",
        "\n",
        "plt.figure(figsize=(8, 8))\n",
        "plt.scatter(range(num+1), accuracy_rate, c='red')\n",
        "plt.show()"
      ],
      "execution_count": 33,
      "outputs": [
        {
          "output_type": "display_data",
          "data": {
            "image/png": "[encoded data removed]",
            "text/plain": [
              "<Figure size 576x576 with 1 Axes>"
            ]
          },
          "metadata": {
            "tags": [],
            "needs_background": "light"
          }
        }
      ]
    },
    {
      "cell_type": "markdown",
      "metadata": {
        "id": "ohZDwR952FVo",
        "colab_type": "text"
      },
      "source": [
        "#5. Write down the final training accuracy"
      ]
    },
    {
      "cell_type": "code",
      "metadata": {
        "id": "aOIztG0midTR",
        "colab_type": "code",
        "outputId": "aa188b05-b639-4352-b941-1014a8d4a57b",
        "colab": {
          "base_uri": "https://localhost:8080/",
          "height": 36
        }
      },
      "source": [
        "#Write down the final training accuracy\n",
        "print(accuracy_rate[num]*100)"
      ],
      "execution_count": 34,
      "outputs": [
        {
          "output_type": "stream",
          "text": [
            "85.59322033898306\n"
          ],
          "name": "stdout"
        }
      ]
    },
    {
      "cell_type": "markdown",
      "metadata": {
        "id": "CeeI3lT442OK",
        "colab_type": "text"
      },
      "source": [
        "#6. Plot the optimal classifier superimosed on the training data"
      ]
    },
    {
      "cell_type": "code",
      "metadata": {
        "id": "sq2zgW-TlPbv",
        "colab_type": "code",
        "outputId": "cf7b2475-aa43-4733-feba-a90e43200555",
        "colab": {
          "base_uri": "https://localhost:8080/",
          "height": 574
        }
      },
      "source": [
        "#Plot the optimal classifier superimposed on the training data\n",
        "\n",
        "plt.figure(figsize=(8, 8))\n",
        "plt.scatter(pointX0, pointY0, c='b')\n",
        "plt.scatter(pointX1, pointY1, c='r')\n",
        "plt.tight_layout()\n",
        "plt.gca().set_aspect('equal', adjustable='box')\n",
        "\n",
        "xla = -np.linspace(-1.0,+1.0,1000)\n",
        "yla = np.linspace(-1.0,+1.0,1000)\n",
        "X,Y = np.meshgrid(xla,yla)\n",
        "eqn = tt[0] + tt[1]*X**2 + tt[2]*Y**2 + tt[3]*X*Y + tt[4]*X + tt[5]*Y\n",
        "Z = 0\n",
        "plt.contour(X,Y,eqn,[Z], colors='green')\n",
        "plt.show()"
      ],
      "execution_count": 35,
      "outputs": [
        {
          "output_type": "display_data",
          "data": {
            "image/png": "[encoded data removed]",
            "text/plain": [
              "<Figure size 576x576 with 1 Axes>"
            ]
          },
          "metadata": {
            "tags": [],
            "needs_background": "light"
          }
        }
      ]
    }
  ]
}