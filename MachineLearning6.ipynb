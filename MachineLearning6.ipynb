{
  "nbformat": 4,
  "nbformat_minor": 0,
  "metadata": {
    "colab": {
      "name": "MachineLearning6.ipynb",
      "provenance": []
    },
    "kernelspec": {
      "name": "python3",
      "display_name": "Python 3"
    }
  },
  "cells": [
    {
      "cell_type": "code",
      "metadata": {
        "id": "aO3Ch3y_NNHn",
        "colab_type": "code",
        "outputId": "9bfc618b-23c2-4fcd-a7a5-634d73f8fcf9",
        "colab": {
          "resources": {
            "http://localhost:8080/nbextensions/google.colab/files.js": {
              "data": "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",
              "ok": true,
              "headers": [
                [
                  "content-type",
                  "application/javascript"
                ]
              ],
              "status": 200,
              "status_text": ""
            }
          },
          "base_uri": "https://localhost:8080/",
          "height": 79
        }
      },
      "source": [
        "from google.colab import files\n",
        "uploaded = files.upload()"
      ],
      "execution_count": 1,
      "outputs": [
        {
          "output_type": "display_data",
          "data": {
            "text/html": [
              "\n",
              "     <input type=\"file\" id=\"files-ff23195b-7e12-4a55-9d5f-06d7ae162a10\" name=\"files[]\" multiple disabled />\n",
              "     <output id=\"result-ff23195b-7e12-4a55-9d5f-06d7ae162a10\">\n",
              "      Upload widget is only available when the cell has been executed in the\n",
              "      current browser session. Please rerun this cell to enable.\n",
              "      </output>\n",
              "      <script src=\"/nbextensions/google.colab/files.js\"></script> "
            ],
            "text/plain": [
              "<IPython.core.display.HTML object>"
            ]
          },
          "metadata": {
            "tags": []
          }
        },
        {
          "output_type": "stream",
          "text": [
            "Saving data-nonlinear.txt to data-nonlinear.txt\n"
          ],
          "name": "stdout"
        }
      ]
    },
    {
      "cell_type": "code",
      "metadata": {
        "id": "xyrKs0xoNXW_",
        "colab_type": "code",
        "colab": {}
      },
      "source": [
        "import numpy as np \n",
        "from matplotlib import pyplot as plt \n",
        "import csv\n",
        "import copy\n",
        "import math\n",
        "from sympy import * \n",
        "init_printing(use_latex='mathjax')\n",
        "\n",
        "from IPython.display import display\n",
        "\n",
        "#compute z\n",
        "def compute_z (theta, data):\n",
        "  z = np.dot(data,np.transpose(theta))\n",
        "  return z\n",
        "\n",
        "\n",
        "#compute prediction\n",
        "def compute_prediction (theta,data):\n",
        "  z=[]\n",
        "  for i in range(len(data)):\n",
        "    z.append(compute_z(theta,data[i]))\n",
        "  prediction = []\n",
        "  for i in range(len(z)):\n",
        "    prediction.append(1.0/(1+np.exp(-z[i])))\n",
        "\n",
        "  return prediction\n",
        "\n",
        "\n",
        "# Objective Function\n",
        "def compute_cost(theta, data, l, ld):\n",
        "  m = float(len(l))\n",
        "  prediction = compute_prediction(theta, data)\n",
        "  prediction=np.array(prediction)\n",
        "  l=np.array(l)\n",
        "  \n",
        "  J = (1/m)*(np.sum(-l*np.log(prediction)-(1-l)*np.log(1-prediction))) + (ld/2)*(np.sum(theta**2))\n",
        "  \n",
        "  return J\n",
        "\n",
        "# get theta, theta_history, J_history, accuracy_history\n",
        "def compute_theta(theta, data, l, alpha, num, ld):\n",
        "  m = float(len(data))\n",
        "  J_history=[]\n",
        "  theta_history=[]\n",
        "  accuracy_history=[]\n",
        "  J_history.append(compute_cost(theta,data, l, ld))\n",
        "  theta_history.append(copy.deepcopy(theta))\n",
        "  data_t = copy.deepcopy(np.array(data))\n",
        "  data_t = np.transpose(data_t)\n",
        "  data_t = data_t.tolist()\n",
        "  temp = 0 \n",
        "  pd = compute_prediction(theta,data)\n",
        "  for i in range(len(pd)):\n",
        "    if pd[i] >= 0.5:\n",
        "      if l[i]==1:\n",
        "        temp += 1\n",
        "    else:\n",
        "      if l[i]==0:\n",
        "        temp += 1\n",
        "  accuracy_history.append(copy.deepcopy(temp))\n",
        "\n",
        "\n",
        " \n",
        "  for i in range(num):\n",
        "    prediction = compute_prediction(theta,data)\n",
        "    prediction = np.array(prediction)\n",
        "    l = np.array(l)\n",
        "    loss = prediction - l\n",
        "\n",
        "\n",
        "    t = np.zeros(100)\n",
        "\n",
        "    for i in range(len(t)):\n",
        "      t[i] = -alpha*(1/m)*np.sum(loss*data_t[i]) - ld*theta[i] \n",
        "    \n",
        "    for i in range(len(t)):\n",
        "      theta[i] += t[i]\n",
        "    \n",
        "\n",
        "    temp = 0 \n",
        "    for j in range(len(prediction)):\n",
        "      if prediction[j] >= 0.5:\n",
        "        if l[j]==1:\n",
        "          temp += 1\n",
        "      else:\n",
        "        if l[j]==0:\n",
        "          temp += 1\n",
        "    accuracy_history.append(copy.deepcopy(temp))\n",
        "    J_history.append(compute_cost(theta, data, l, ld))\n",
        "    theta_history.append(copy.deepcopy(theta))\n",
        "    theta_r = copy.deepcopy(theta)\n",
        "\n",
        "  return theta_r, theta_history, J_history ,accuracy_history\n",
        "\n",
        "\n",
        "\n",
        "data    = np.genfromtxt(\"data-nonlinear.txt\", delimiter=',')\n",
        "\n",
        "pointX  = data[:, 0]\n",
        "pointY  = data[:, 1]\n",
        "label   = data[:, 2]\n",
        "\n",
        "pointX0 = pointX[label == 0]\n",
        "pointY0 = pointY[label == 0]\n",
        "\n",
        "pointX1 = pointX[label == 1]\n",
        "pointY1 = pointY[label == 1]\n",
        "\n",
        "\n",
        "\n",
        "train_data=[]\n",
        "data_label=[]\n",
        "temp=[]\n",
        "\n",
        "for i in range(len(pointX)):\n",
        "  for j in range(10):\n",
        "    for k in range(10):\n",
        "      temp.append(pointX[i]**j*pointY[i]**k)\n",
        "  data_label.append(copy.deepcopy(label[i]))\n",
        "  temp[0] = 1\n",
        "  train_data.append(copy.deepcopy(temp))\n",
        "  temp.clear()\n",
        "\n",
        "\n",
        "\n",
        "tt=np.zeros(100)\n",
        "alpha = 0.01\n",
        "num = 100000\n",
        "ld = [0.003, 0.0001, 0.000001]\n",
        "\n",
        "\n",
        "tt0, theta_h0, cost_h0, accuracy_h0 = compute_theta(tt, train_data, data_label, alpha, num, ld[0])\n",
        "tt1, theta_h1, cost_h1, accuracy_h1 = compute_theta(tt, train_data, data_label, alpha, num, ld[1])\n",
        "tt2, theta_h2, cost_h2, accuracy_h2 = compute_theta(tt, train_data, data_label, alpha, num, ld[2])\n",
        "\n",
        "\n",
        "accuracy_rate0=[]\n",
        "accuracy_rate1=[]\n",
        "accuracy_rate2=[]\n",
        "for i in range(len(accuracy_h0)):\n",
        "  accuracy_rate0.append(copy.deepcopy(accuracy_h0[i]/len(train_data)))\n",
        "  accuracy_rate1.append(copy.deepcopy(accuracy_h1[i]/len(train_data)))\n",
        "  accuracy_rate2.append(copy.deepcopy(accuracy_h2[i]/len(train_data)))\n",
        "\n"
      ],
      "execution_count": 0,
      "outputs": []
    },
    {
      "cell_type": "markdown",
      "metadata": {
        "id": "AUs5tJBc1oPQ",
        "colab_type": "text"
      },
      "source": [
        "#1. Plot the data"
      ]
    },
    {
      "cell_type": "code",
      "metadata": {
        "id": "2v4zTsZIgGEr",
        "colab_type": "code",
        "outputId": "99b464b0-a13f-41dc-a497-91c38be858bc",
        "colab": {
          "base_uri": "https://localhost:8080/",
          "height": 559
        }
      },
      "source": [
        "#plot the data\n",
        "\n",
        "plt.figure(figsize=(8, 8))\n",
        "plt.scatter(pointX0, pointY0, c='b', label = \"Label0\")\n",
        "plt.scatter(pointX1, pointY1, c='r', label = \"Label1\")\n",
        "plt.tight_layout()\n",
        "plt.gca().set_aspect('equal', adjustable='box')\n",
        "plt.legend(loc='upper right')\n",
        "plt.show()"
      ],
      "execution_count": 185,
      "outputs": [
        {
          "output_type": "display_data",
          "data": {
            "image/png": "[encoded data removed]",
            "text/plain": [
              "<Figure size 576x576 with 1 Axes>"
            ]
          },
          "metadata": {
            "tags": [],
            "needs_background": "light"
          }
        }
      ]
    },
    {
      "cell_type": "markdown",
      "metadata": {
        "id": "qQFAgKdo1-Mc",
        "colab_type": "text"
      },
      "source": [
        "#2. Plot the training error"
      ]
    },
    {
      "cell_type": "code",
      "metadata": {
        "id": "tM7RtHkJgK3q",
        "colab_type": "code",
        "outputId": "bf4968e8-4799-414f-c657-7d78da47b383",
        "colab": {
          "base_uri": "https://localhost:8080/",
          "height": 483
        }
      },
      "source": [
        "#Plot the training error\n",
        "\n",
        "plt.figure(figsize=(8, 8))\n",
        "plt.scatter(range(num+1), cost_h0, c='blue', label = \"Underfitting\")\n",
        "plt.scatter(range(num+1), cost_h1, c='green', label = \"JustRight\")\n",
        "plt.scatter(range(num+1), cost_h2, c='red',  label = \"Overfitting\")\n",
        "plt.legend(loc='upper right')\n",
        "plt.show()\n"
      ],
      "execution_count": 186,
      "outputs": [
        {
          "output_type": "display_data",
          "data": {
            "image/png": "[encoded data removed]",
            "text/plain": [
              "<Figure size 576x576 with 1 Axes>"
            ]
          },
          "metadata": {
            "tags": [],
            "needs_background": "light"
          }
        }
      ]
    },
    {
      "cell_type": "markdown",
      "metadata": {
        "id": "as22x1GFfMex",
        "colab_type": "text"
      },
      "source": [
        "#3. Display the values of the chosen regularization parameters"
      ]
    },
    {
      "cell_type": "code",
      "metadata": {
        "id": "zTc-eDLcPB7E",
        "colab_type": "code",
        "colab": {
          "base_uri": "https://localhost:8080/",
          "height": 73
        },
        "outputId": "70267c11-f0bf-4864-97c6-edcc7b70dbaf"
      },
      "source": [
        "#Display the values of the chosen regularization parameters\n",
        "print('\\033[31m'+(str)(ld[2])+'\\033[0m')\n",
        "print('\\033[32m'+(str)(ld[1])+'\\033[0m')\n",
        "print('\\033[34m'+(str)(ld[0])+'\\033[0m')"
      ],
      "execution_count": 187,
      "outputs": [
        {
          "output_type": "stream",
          "text": [
            "\u001b[31m1e-06\u001b[0m\n",
            "\u001b[32m0.0001\u001b[0m\n",
            "\u001b[34m0.003\u001b[0m\n"
          ],
          "name": "stdout"
        }
      ]
    },
    {
      "cell_type": "markdown",
      "metadata": {
        "id": "8hKV-C5NfT_W",
        "colab_type": "text"
      },
      "source": [
        "#4. Plot the training accuracy"
      ]
    },
    {
      "cell_type": "code",
      "metadata": {
        "id": "njZOGHgcgSnV",
        "colab_type": "code",
        "outputId": "e970721a-292b-4120-9d9b-424ad17e37b7",
        "colab": {
          "base_uri": "https://localhost:8080/",
          "height": 483
        }
      },
      "source": [
        "#Plot the training accuracy\n",
        "\n",
        "plt.figure(figsize=(8, 8))\n",
        "plt.scatter(range(num+1), accuracy_rate0, c='blue', label = \"Underfitting\")\n",
        "plt.scatter(range(num+1), accuracy_rate1, c='green', label = \"JustRight\")\n",
        "plt.scatter(range(num+1), accuracy_rate2, c='red', label = \"Overfitting\")\n",
        "plt.legend(loc='upper right')\n",
        "plt.show()"
      ],
      "execution_count": 188,
      "outputs": [
        {
          "output_type": "display_data",
          "data": {
            "image/png": "[encoded data removed]",
            "text/plain": [
              "<Figure size 576x576 with 1 Axes>"
            ]
          },
          "metadata": {
            "tags": [],
            "needs_background": "light"
          }
        }
      ]
    },
    {
      "cell_type": "markdown",
      "metadata": {
        "id": "gxndhbKrfc9a",
        "colab_type": "text"
      },
      "source": [
        "#5. Final training accuracy"
      ]
    },
    {
      "cell_type": "code",
      "metadata": {
        "id": "CfAAR9RMgXYr",
        "colab_type": "code",
        "outputId": "a17afcb3-2a21-4dec-a831-a09cff4a5043",
        "colab": {
          "base_uri": "https://localhost:8080/",
          "height": 73
        }
      },
      "source": [
        "#Write down the final training accuracy\n",
        "print('\\033[31m'+(str)(accuracy_rate2[num]*100)+'\\033[0m')\n",
        "print('\\033[32m'+(str)(accuracy_rate1[num]*100)+'\\033[0m')\n",
        "print('\\033[34m'+(str)(accuracy_rate0[num]*100)+'\\033[0m')"
      ],
      "execution_count": 189,
      "outputs": [
        {
          "output_type": "stream",
          "text": [
            "\u001b[31m84.7457627118644\u001b[0m\n",
            "\u001b[32m83.05084745762711\u001b[0m\n",
            "\u001b[34m69.49152542372882\u001b[0m\n"
          ],
          "name": "stdout"
        }
      ]
    },
    {
      "cell_type": "markdown",
      "metadata": {
        "id": "fO25iBDDfh8o",
        "colab_type": "text"
      },
      "source": [
        "#6. Plot the optimal classifier with varying regularization parameters superimposed on the training data"
      ]
    },
    {
      "cell_type": "code",
      "metadata": {
        "id": "teJEJ2AIgZyL",
        "colab_type": "code",
        "colab": {}
      },
      "source": [
        "plt.figure(figsize=(8, 8))\n",
        "plt.scatter(pointX0, pointY0, c='b')\n",
        "plt.scatter(pointX1, pointY1, c='r')\n",
        "plt.gca().set_aspect('equal', adjustable='box')\n",
        "\n",
        "xla = np.linspace(-1.0,+1.0,1000)\n",
        "yla = np.linspace(-1.0,+1.0,1000)\n",
        "X,Y = np.meshgrid(xla,yla)\n",
        "tt=copy.deepcopy(tt0)\n",
        "eqn0 = tt[0]+tt[1]*Y+tt[2]*Y**2+tt[3]*Y**3+tt[4]*Y**4+tt[5]*Y**5+tt[6]*Y**6+tt[7]*Y**7+tt[8]*Y**8+tt[9]*Y**9+tt[10]*X+tt[11]*X*Y+tt[12]*X*Y**2+tt[13]*X*Y**3+tt[14]*X*Y**4+tt[15]*X*Y**5+tt[16]*X*Y**6+tt[17]*X*Y**7+tt[18]*X*Y**8+tt[19]*X*Y**9+tt[20]*X**2+tt[21]*X**2*Y+tt[22]*X**2*Y**2+tt[23]*X**2*Y**3+tt[24]*X**2*Y**4+tt[25]*X**2*Y**5+tt[26]*X**2*Y**6+tt[27]*X**2*Y**7+tt[28]*X**2*Y**8+tt[29]*X**2*Y**9+tt[30]*X**3+tt[31]*X**3*Y+tt[32]*X**3*Y**2+tt[33]*X**3*Y**3+tt[34]*X**3*Y**4+tt[35]*X**3*Y**5+tt[36]*X**3*Y**6+tt[37]*X**3*Y**7+tt[38]*X**3*Y**8+tt[39]*X**3*Y**9+tt[40]*X**4+tt[41]*X**4*Y+tt[42]*X**4*Y**2+tt[43]*X**4*Y**3+tt[44]*X**4*Y**4+tt[45]*X**4*Y**5+tt[46]*X**4*Y**6+tt[47]*X**4*Y**7+tt[48]*X**4*Y**8+tt[49]*X**4*Y**9+tt[50]*X**5+tt[51]*X**5*Y+tt[52]*X**5*Y**2+tt[53]*X**5*Y**3+tt[54]*X**5*Y**4+tt[55]*X**5*Y**5+tt[56]*X**5*Y**6+tt[57]*X**5*Y**7+tt[58]*X**5*Y**8+tt[59]*X**5*Y**9+tt[60]*X**6+tt[61]*X**6*Y+tt[62]*X**6*Y**2+tt[63]*X**6*Y**3+tt[64]*X**6*Y**4+tt[65]*X**6*Y**5+tt[66]*X**6*Y**6+tt[67]*X**6*Y**7+tt[68]*X**6*Y**8+tt[69]*X**6*Y**9+tt[70]*X**7+tt[71]*X**7*Y+tt[72]*X**7*Y**2+tt[73]*X**7*Y**3+tt[74]*X**7*Y**4+tt[75]*X**7*Y**5+tt[76]*X**7*Y**6+tt[77]*X**7*Y**7+tt[78]*X**7*Y**8+tt[79]*X**7*Y**9+tt[80]*X**8+tt[81]*X**8*Y+tt[82]*X**8*Y**2+tt[83]*X**8*Y**3+tt[84]*X**8*Y**4+tt[85]*X**8*Y**5+tt[86]*X**8*Y**6+tt[87]*X**8*Y**7+tt[88]*X**8*Y**8+tt[89]*X**8*Y**9+tt[90]*X**9+tt[91]*X**9*Y+tt[92]*X**9*Y**2+tt[93]*X**9*Y**3+tt[94]*X**9*Y**4+tt[95]*X**9*Y**5+tt[96]*X**9*Y**6+tt[97]*X**9*Y**7+tt[98]*X**9*Y**8+tt[99]*X**9*Y**9\n",
        "tt=copy.deepcopy(tt1)\n",
        "eqn1 = tt[0]+tt[1]*Y+tt[2]*Y**2+tt[3]*Y**3+tt[4]*Y**4+tt[5]*Y**5+tt[6]*Y**6+tt[7]*Y**7+tt[8]*Y**8+tt[9]*Y**9+tt[10]*X+tt[11]*X*Y+tt[12]*X*Y**2+tt[13]*X*Y**3+tt[14]*X*Y**4+tt[15]*X*Y**5+tt[16]*X*Y**6+tt[17]*X*Y**7+tt[18]*X*Y**8+tt[19]*X*Y**9+tt[20]*X**2+tt[21]*X**2*Y+tt[22]*X**2*Y**2+tt[23]*X**2*Y**3+tt[24]*X**2*Y**4+tt[25]*X**2*Y**5+tt[26]*X**2*Y**6+tt[27]*X**2*Y**7+tt[28]*X**2*Y**8+tt[29]*X**2*Y**9+tt[30]*X**3+tt[31]*X**3*Y+tt[32]*X**3*Y**2+tt[33]*X**3*Y**3+tt[34]*X**3*Y**4+tt[35]*X**3*Y**5+tt[36]*X**3*Y**6+tt[37]*X**3*Y**7+tt[38]*X**3*Y**8+tt[39]*X**3*Y**9+tt[40]*X**4+tt[41]*X**4*Y+tt[42]*X**4*Y**2+tt[43]*X**4*Y**3+tt[44]*X**4*Y**4+tt[45]*X**4*Y**5+tt[46]*X**4*Y**6+tt[47]*X**4*Y**7+tt[48]*X**4*Y**8+tt[49]*X**4*Y**9+tt[50]*X**5+tt[51]*X**5*Y+tt[52]*X**5*Y**2+tt[53]*X**5*Y**3+tt[54]*X**5*Y**4+tt[55]*X**5*Y**5+tt[56]*X**5*Y**6+tt[57]*X**5*Y**7+tt[58]*X**5*Y**8+tt[59]*X**5*Y**9+tt[60]*X**6+tt[61]*X**6*Y+tt[62]*X**6*Y**2+tt[63]*X**6*Y**3+tt[64]*X**6*Y**4+tt[65]*X**6*Y**5+tt[66]*X**6*Y**6+tt[67]*X**6*Y**7+tt[68]*X**6*Y**8+tt[69]*X**6*Y**9+tt[70]*X**7+tt[71]*X**7*Y+tt[72]*X**7*Y**2+tt[73]*X**7*Y**3+tt[74]*X**7*Y**4+tt[75]*X**7*Y**5+tt[76]*X**7*Y**6+tt[77]*X**7*Y**7+tt[78]*X**7*Y**8+tt[79]*X**7*Y**9+tt[80]*X**8+tt[81]*X**8*Y+tt[82]*X**8*Y**2+tt[83]*X**8*Y**3+tt[84]*X**8*Y**4+tt[85]*X**8*Y**5+tt[86]*X**8*Y**6+tt[87]*X**8*Y**7+tt[88]*X**8*Y**8+tt[89]*X**8*Y**9+tt[90]*X**9+tt[91]*X**9*Y+tt[92]*X**9*Y**2+tt[93]*X**9*Y**3+tt[94]*X**9*Y**4+tt[95]*X**9*Y**5+tt[96]*X**9*Y**6+tt[97]*X**9*Y**7+tt[98]*X**9*Y**8+tt[99]*X**9*Y**9\n",
        "tt=copy.deepcopy(tt2)\n",
        "eqn2 = tt[0]+tt[1]*Y+tt[2]*Y**2+tt[3]*Y**3+tt[4]*Y**4+tt[5]*Y**5+tt[6]*Y**6+tt[7]*Y**7+tt[8]*Y**8+tt[9]*Y**9+tt[10]*X+tt[11]*X*Y+tt[12]*X*Y**2+tt[13]*X*Y**3+tt[14]*X*Y**4+tt[15]*X*Y**5+tt[16]*X*Y**6+tt[17]*X*Y**7+tt[18]*X*Y**8+tt[19]*X*Y**9+tt[20]*X**2+tt[21]*X**2*Y+tt[22]*X**2*Y**2+tt[23]*X**2*Y**3+tt[24]*X**2*Y**4+tt[25]*X**2*Y**5+tt[26]*X**2*Y**6+tt[27]*X**2*Y**7+tt[28]*X**2*Y**8+tt[29]*X**2*Y**9+tt[30]*X**3+tt[31]*X**3*Y+tt[32]*X**3*Y**2+tt[33]*X**3*Y**3+tt[34]*X**3*Y**4+tt[35]*X**3*Y**5+tt[36]*X**3*Y**6+tt[37]*X**3*Y**7+tt[38]*X**3*Y**8+tt[39]*X**3*Y**9+tt[40]*X**4+tt[41]*X**4*Y+tt[42]*X**4*Y**2+tt[43]*X**4*Y**3+tt[44]*X**4*Y**4+tt[45]*X**4*Y**5+tt[46]*X**4*Y**6+tt[47]*X**4*Y**7+tt[48]*X**4*Y**8+tt[49]*X**4*Y**9+tt[50]*X**5+tt[51]*X**5*Y+tt[52]*X**5*Y**2+tt[53]*X**5*Y**3+tt[54]*X**5*Y**4+tt[55]*X**5*Y**5+tt[56]*X**5*Y**6+tt[57]*X**5*Y**7+tt[58]*X**5*Y**8+tt[59]*X**5*Y**9+tt[60]*X**6+tt[61]*X**6*Y+tt[62]*X**6*Y**2+tt[63]*X**6*Y**3+tt[64]*X**6*Y**4+tt[65]*X**6*Y**5+tt[66]*X**6*Y**6+tt[67]*X**6*Y**7+tt[68]*X**6*Y**8+tt[69]*X**6*Y**9+tt[70]*X**7+tt[71]*X**7*Y+tt[72]*X**7*Y**2+tt[73]*X**7*Y**3+tt[74]*X**7*Y**4+tt[75]*X**7*Y**5+tt[76]*X**7*Y**6+tt[77]*X**7*Y**7+tt[78]*X**7*Y**8+tt[79]*X**7*Y**9+tt[80]*X**8+tt[81]*X**8*Y+tt[82]*X**8*Y**2+tt[83]*X**8*Y**3+tt[84]*X**8*Y**4+tt[85]*X**8*Y**5+tt[86]*X**8*Y**6+tt[87]*X**8*Y**7+tt[88]*X**8*Y**8+tt[89]*X**8*Y**9+tt[90]*X**9+tt[91]*X**9*Y+tt[92]*X**9*Y**2+tt[93]*X**9*Y**3+tt[94]*X**9*Y**4+tt[95]*X**9*Y**5+tt[96]*X**9*Y**6+tt[97]*X**9*Y**7+tt[98]*X**9*Y**8+tt[99]*X**9*Y**9\n",
        "Z = 0\n",
        "plt.contour(X,Y,eqn0,[Z], colors='blue', labels = \"Underfitting\")\n",
        "plt.contour(X,Y,eqn1,[Z], colors='green', labels = \"JustRight\")\n",
        "plt.contour(X,Y,eqn2,[Z], colors='red', labels = \"Overfitting\")\n",
        "plt.legend(loc='upper right')\n",
        "plt.show()\n"
      ],
      "execution_count": 0,
      "outputs": []
    }
  ]
}