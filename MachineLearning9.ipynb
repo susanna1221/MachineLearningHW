{
  "nbformat": 4,
  "nbformat_minor": 0,
  "metadata": {
    "colab": {
      "name": "MachineLearning9",
      "provenance": []
    },
    "kernelspec": {
      "name": "python3",
      "display_name": "Python 3"
    }
  },
  "cells": [
    {
      "cell_type": "code",
      "metadata": {
        "id": "aO3Ch3y_NNHn",
        "colab_type": "code",
        "outputId": "f7b3e91a-3319-4214-e6e6-6c14e9c11821",
        "colab": {
          "resources": {
            "http://localhost:8080/nbextensions/google.colab/files.js": {
              "data": "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",
              "ok": true,
              "headers": [
                [
                  "content-type",
                  "application/javascript"
                ]
              ],
              "status": 200,
              "status_text": ""
            }
          },
          "base_uri": "https://localhost:8080/",
          "height": 79
        }
      },
      "source": [
        "from google.colab import files\n",
        "uploaded = files.upload()"
      ],
      "execution_count": 0,
      "outputs": [
        {
          "output_type": "display_data",
          "data": {
            "text/html": [
              "\n",
              "     <input type=\"file\" id=\"files-f1db5c45-c03b-48a0-b673-dc9ff81277a8\" name=\"files[]\" multiple disabled />\n",
              "     <output id=\"result-f1db5c45-c03b-48a0-b673-dc9ff81277a8\">\n",
              "      Upload widget is only available when the cell has been executed in the\n",
              "      current browser session. Please rerun this cell to enable.\n",
              "      </output>\n",
              "      <script src=\"/nbextensions/google.colab/files.js\"></script> "
            ],
            "text/plain": [
              "<IPython.core.display.HTML object>"
            ]
          },
          "metadata": {
            "tags": []
          }
        },
        {
          "output_type": "stream",
          "text": [
            "Saving mnist.csv to mnist.csv\n"
          ],
          "name": "stdout"
        }
      ]
    },
    {
      "cell_type": "code",
      "metadata": {
        "id": "6k2iZfBJrdee",
        "colab_type": "code",
        "colab": {}
      },
      "source": [
        "import matplotlib.pyplot as plt\n",
        "import numpy as np\n",
        "import csv\n",
        "import copy\n",
        "import math\n",
        "\n",
        "import matplotlib.pyplot as plt\n",
        "import numpy as np\n",
        "\n",
        "file_data   = \"mnist.csv\"\n",
        "handle_file = open(file_data, \"r\")\n",
        "data        = handle_file.readlines()\n",
        "handle_file.close()\n",
        "\n",
        "size_row    = 28    # height of the image\n",
        "size_col    = 28    # width of the image\n",
        "\n",
        "num_image   = len(data)\n",
        "count       = 0     # count for the number of images\n",
        "\n",
        "#\n",
        "# normalize the values of the input data to be [0, 1]\n",
        "#\n",
        "def normalize(data):\n",
        "\n",
        "    data_normalized = (data - min(data)) / (max(data) - min(data))\n",
        "\n",
        "    return(data_normalized)\n",
        "\n",
        "#\n",
        "# example of distance function between two vectors x and y\n",
        "#\n",
        "def distance(x, y):\n",
        "\n",
        "    d = (x - y) ** 2\n",
        "    s = np.sum(d)\n",
        "    # r = np.sqrt(s)\n",
        "\n",
        "    return(s)\n",
        "\n",
        "#\n",
        "# make a matrix each column of which represents an images in a vector form\n",
        "#\n",
        "list_image  = np.empty((size_row * size_col, num_image), dtype=float)\n",
        "list_label  = np.empty(num_image, dtype=int)\n",
        "\n",
        "for line in data:\n",
        "\n",
        "    line_data   = line.split(',')\n",
        "    label       = line_data[0]\n",
        "    im_vector   = np.asfarray(line_data[1:])\n",
        "    im_vector   = normalize(im_vector)\n",
        "\n",
        "    list_label[count]       = label\n",
        "    list_image[:, count]    = im_vector\n",
        "\n",
        "    count += 1\n",
        "\n"
      ],
      "execution_count": 0,
      "outputs": []
    },
    {
      "cell_type": "code",
      "metadata": {
        "id": "vA19fIAYeMLX",
        "colab_type": "code",
        "colab": {}
      },
      "source": [
        "#라벨 벡터로\n",
        "NumofLabel = 10\n",
        "labelvector_train = []\n",
        "labelvector_test = []\n",
        "labeltemp = []\n",
        "\n",
        "for i in range(1000):\n",
        "  for j in range(NumofLabel):\n",
        "    if list_label[i] == j:\n",
        "      labeltemp.append(1)\n",
        "    else:\n",
        "      labeltemp.append(0)\n",
        "  labelvector_train.append(copy.deepcopy(labeltemp))\n",
        "  labeltemp.clear()\n",
        "for i in range(9000):\n",
        "  for j in range(NumofLabel):\n",
        "    if list_label[i+1000] == j:\n",
        "      labeltemp.append(1)\n",
        "    else:\n",
        "      labeltemp.append(0)\n",
        "  labelvector_test.append(copy.deepcopy(labeltemp))\n",
        "  labeltemp.clear()"
      ],
      "execution_count": 0,
      "outputs": []
    },
    {
      "cell_type": "code",
      "metadata": {
        "id": "eGNwjc92rS9B",
        "colab_type": "code",
        "colab": {}
      },
      "source": [
        "#데이터 분류\n",
        "list_train = []\n",
        "for i in range(1000):\n",
        "    label       = list_label[i]\n",
        "    im_vector   = list_image[:, i]\n",
        "    im_vector = im_vector.tolist()\n",
        "    im_vector.insert(0,1)\n",
        "    list_train.append(copy.deepcopy(im_vector))\n",
        "\n",
        "list_test = []\n",
        "label_test = []\n",
        "for i in range(9000):\n",
        "    label       = list_label[1000+i]\n",
        "    im_vector   = list_image[:, 1000+i]\n",
        "    im_vector = im_vector.tolist()\n",
        "    im_vector.insert(0,1)\n",
        "    list_test.append(copy.deepcopy(im_vector))\n",
        "    label_test.append(copy.deepcopy(label))\n",
        "\n",
        "\n"
      ],
      "execution_count": 0,
      "outputs": []
    },
    {
      "cell_type": "code",
      "metadata": {
        "id": "RBU0-uEn9dCx",
        "colab_type": "code",
        "colab": {}
      },
      "source": [
        "#임의의 세타값 설정\n",
        "\n",
        "thetaA=np.random.randn((int)(size_row*size_col+1),(int)(size_row*size_col/4))\n",
        "thetaB=np.random.randn((int)(size_row*size_col/4+1), (int)(size_row*size_col/8))\n",
        "thetaC=np.random.randn((int)(size_row*size_col/8+1),(int)(size_row*size_col/16))\n",
        "thetaD=np.random.randn((int)(size_row*size_col/16+1), NumofLabel)\n"
      ],
      "execution_count": 0,
      "outputs": []
    },
    {
      "cell_type": "code",
      "metadata": {
        "id": "z12Tbef7ywZY",
        "colab_type": "code",
        "colab": {}
      },
      "source": [
        "#fully connected and sigmoid calculation\n",
        "def compute_matrix (theta, data):\n",
        "  z = np.dot(data,theta)\n",
        "  sigz = []\n",
        "  temp = []\n",
        "  for i in z:\n",
        "    for j in i:\n",
        "      temp.append(1.0/(1+np.exp(-j)))\n",
        "    sigz.append(copy.deepcopy(temp))\n",
        "    temp.clear()\n",
        "\n",
        "  return sigz\n",
        " "
      ],
      "execution_count": 0,
      "outputs": []
    },
    {
      "cell_type": "code",
      "metadata": {
        "id": "F1uPUYBLhivg",
        "colab_type": "code",
        "colab": {}
      },
      "source": [
        "#Compute prediction\n",
        "def compute_prediction(thetaA, thetaB, thetaC, thetaD, data):\n",
        "  prediction = compute_matrix(thetaA, data)\n",
        "  for i in prediction:\n",
        "    i.insert(0,1.0)\n",
        "  #prediction.insert(0,1.0)\n",
        "  a = copy.deepcopy(prediction)\n",
        "  prediction = compute_matrix(thetaB, prediction)\n",
        "  #prediction.insert(0,1.0)\n",
        "  for i in prediction:\n",
        "    i.insert(0,1.0)\n",
        "  b = copy.deepcopy(prediction)\n",
        "  prediction = compute_matrix(thetaC, prediction)\n",
        "  #prediction.insert(0,1.0)\n",
        "  for i in prediction:\n",
        "    i.insert(0,1.0)\n",
        "  c = copy.deepcopy(prediction)\n",
        "  prediction = compute_matrix(thetaD, prediction)\n",
        "\n",
        "  return prediction, c, b, a\n",
        "\n",
        "\n",
        "\n",
        "# Objective Function\n",
        "def compute_cost(thetaA, thetaB, thetaC, thetaD, data, l, lam):\n",
        "  prediction, c, b, a = compute_prediction(thetaA, thetaB, thetaC, thetaD, data)\n",
        "  m = len(prediction)\n",
        "\n",
        "  J = 0.0\n",
        "  for i in range(int(m)):\n",
        "    for j in range(NumofLabel):\n",
        "      J += -l[i][j]*np.log(prediction[i][j]) - (1-l[i][j])*np.log(1-prediction[i][j])\n",
        "  J = J/m\n",
        "  n = len(thetaA) + len(thetaB) + len(thetaC) +len(thetaD)\n",
        "  k = np.sum(thetaA*thetaA) + np.sum(thetaB*thetaB) + np.sum(thetaC*thetaC) + np.sum(thetaD*thetaD)\n",
        "  k = (lam * k)/n\n",
        "  J = J - k\n",
        "\n",
        "  return J\n",
        "\n",
        "\n",
        "\n"
      ],
      "execution_count": 0,
      "outputs": []
    },
    {
      "cell_type": "code",
      "metadata": {
        "id": "dxlpsYm50kja",
        "colab_type": "code",
        "colab": {}
      },
      "source": [
        "def inv_sig(x):\n",
        "  x = np.array(x)\n",
        "  x = x.flatten()\n",
        "  res = 0\n",
        "  for i in x:\n",
        "    res = res + i*(i-i)\n",
        "  return res"
      ],
      "execution_count": 0,
      "outputs": []
    },
    {
      "cell_type": "code",
      "metadata": {
        "id": "wObbT7bju8T4",
        "colab_type": "code",
        "colab": {}
      },
      "source": [
        "#제일 큰 값 찾기\n",
        "\n",
        "def find_big(list):\n",
        "  big = list[0]\n",
        "  result = 0\n",
        "  for i in range(len(list)):\n",
        "    if list[i] > big:\n",
        "      big = list[i]\n",
        "      result = i\n",
        "  return result\n"
      ],
      "execution_count": 0,
      "outputs": []
    },
    {
      "cell_type": "code",
      "metadata": {
        "id": "kcLYT6PflXik",
        "colab_type": "code",
        "colab": {}
      },
      "source": [
        "# get theta, J_history, accuracy_history\n",
        "def back_prop(thetaA, thetaB, thetaC, thetaD, data, l, lam, alpha, num, t_data, t_label):\n",
        "  J_history_tr=[]\n",
        "  J_history_tr.append(compute_cost(thetaA, thetaB, thetaC, thetaD, data, l, lam))\n",
        "  J_history_t=[]\n",
        "  J_history_t.append(compute_cost(thetaA, thetaB, thetaC, thetaD, t_data, t_label, lam))\n",
        "  accuracy_history_train = []\n",
        "  accuracy_history_test = []\n",
        "\n",
        "  for i in range(num):\n",
        "    prediction, c, b, a = compute_prediction(thetaA, thetaB, thetaC, thetaD, data)\n",
        "    prediction_test ,c_t, b_t, a_t = compute_prediction(thetaA, thetaB, thetaC, thetaD, t_data)\n",
        "    prediction = np.array(prediction)\n",
        "    l = np.array(l)\n",
        "    loss = prediction - l\n",
        "    \n",
        "\n",
        "    #thetaD 업데이트\n",
        "    thetaD = thetaD - (alpha * (np.dot(np.transpose(c), loss) + lam * thetaD))\n",
        "    #thetaC 업데이트\n",
        "    t = np.dot(thetaD, loss.T)\n",
        "    t2 = inv_sig(c) * t\n",
        "    t = np.dot(t2, b)\n",
        "    t = (alpha * (t[1:len(t)] + lam * thetaC.T)).T\n",
        "    thetaC = thetaC - t\n",
        "    #thetaB 업데이트\n",
        "    t = np.dot(thetaC, t2[1:len(t2)])\n",
        "    t3 = inv_sig(b) * t\n",
        "    t = np.dot(t3, a)\n",
        "    t = (alpha * (t[1:len(t)]+ lam * thetaB.T)).T\n",
        "    thetaB = thetaB - t\n",
        "    #thetaA 업데이트\n",
        "    t = np.dot(thetaB, t3[1:len(t3)])\n",
        "    t = inv_sig(a) * t\n",
        "    t = np.dot(t, data)\n",
        "    t = (t[1:len(t)] + lam * thetaA.T).T\n",
        "    thetaA = thetaA - t\n",
        "\n",
        "\n",
        "\n",
        "    J_history_tr.append(compute_cost(thetaA, thetaB, thetaC, thetaD, data, l, lam))\n",
        "    J_history_t.append(compute_cost(thetaA, thetaB, thetaC, thetaD, t_data, t_label, lam))\n",
        "    \n",
        "    temp = 0 \n",
        "    for j in range(len(prediction)):\n",
        "      if l[j][find_big(prediction[j])] == 1:\n",
        "        temp = temp + 1\n",
        "    accuracy_history_train.append(copy.deepcopy(temp))\n",
        "    \n",
        "    temp = 0 \n",
        "    for j in range(len(prediction_test)):\n",
        "      if t_label[j][find_big(prediction_test[j])] == 1:\n",
        "        temp = temp + 1\n",
        "    accuracy_history_test.append(copy.deepcopy(temp))\n",
        "  \n",
        "\n",
        "  return thetaA, thetaB, thetaC, thetaD, J_history_tr, J_history_t, accuracy_history_train, accuracy_history_test\n",
        "\n"
      ],
      "execution_count": 0,
      "outputs": []
    },
    {
      "cell_type": "code",
      "metadata": {
        "id": "gpblWCnQo-bW",
        "colab_type": "code",
        "colab": {}
      },
      "source": [
        "alpha = [0.001, 0.0006, 0.0001]\n",
        "labelvector_train = np.array(labelvector_train,dtype=np.float32)\n",
        "list_train = np.array(list_train,dtype=np.float32)\n",
        "lam = 0.0000005\n",
        "thetaA, thetaB, thetaC, thetaD, J_history_tr0, J_history_t0, accuracy_h_tr0, accuracy_h_t0 = back_prop(thetaA, thetaB, thetaC, thetaD, list_train, labelvector_train, lam, alpha[0], 30, list_test, labelvector_test)\n",
        "thetaA, thetaB, thetaC, thetaD, J_history_tr1, J_history_t1, accuracy_h_tr1, accuracy_h_t1 = back_prop(thetaA, thetaB, thetaC, thetaD, list_train, labelvector_train, lam, alpha[1], 300, list_test, labelvector_test)\n",
        "thetaA, thetaB, thetaC, thetaD, J_history_tr2, J_history_t2, accuracy_h_tr2, accuracy_h_t2 = back_prop(thetaA, thetaB, thetaC, thetaD, list_train, labelvector_train, lam, alpha[2], 30, list_test, labelvector_test)\n",
        "\n",
        "\n"
      ],
      "execution_count": 0,
      "outputs": []
    },
    {
      "cell_type": "code",
      "metadata": {
        "id": "4Y08yYncUNHn",
        "colab_type": "code",
        "colab": {}
      },
      "source": [
        "J_history_tr = J_history_tr0 + J_history_tr1 + J_history_tr2\n",
        "J_history_t = J_history_t0 + J_history_t1 + J_history_t2\n",
        "\n",
        "accuracy_h_tr = accuracy_h_tr0 + accuracy_h_tr1 + accuracy_h_tr2\n",
        "accuracy_h_t = accuracy_h_t0 + accuracy_h_t1 + accuracy_h_t2\n",
        "accuracy_train = []\n",
        "accuracy_test = []\n",
        "for i in range(len(accuracy_h_tr)):\n",
        "  accuracy_train.append(accuracy_h_tr[i]/1000)\n",
        "for i in range(len(accuracy_h_t)):\n",
        "  accuracy_test.append(accuracy_h_t[i]/9000)"
      ],
      "execution_count": 0,
      "outputs": []
    },
    {
      "cell_type": "code",
      "metadata": {
        "id": "-n0tBsvKdGcZ",
        "colab_type": "code",
        "colab": {}
      },
      "source": [
        "#최종 세타 적용\n",
        "p,a,b = compute_prediction(thetaA, thetaB, thetaC, thetaD, list_test)\n",
        "\n",
        "temp = 0\n",
        "listofimg= []\n",
        "notlist = []\n",
        "listlabel = []\n",
        "notlistlabel=[]\n",
        "for i in range(len(p)):\n",
        "  if labelvector_test[i][find_big(p[i])] == 1:\n",
        "    temp = temp + 1\n",
        "    listofimg.append(i)\n",
        "    listlabel.append(copy.deepcopy(find_big(p[i])+1))\n",
        "\n",
        "  else:\n",
        "    notlist.append(i)\n",
        "    notlistlabel.append(copy.deepcopy(find_big(p[i])+1))\n",
        "\n",
        "\n"
      ],
      "execution_count": 0,
      "outputs": []
    },
    {
      "cell_type": "markdown",
      "metadata": {
        "id": "qQFAgKdo1-Mc",
        "colab_type": "text"
      },
      "source": [
        "#1. Plot the training error"
      ]
    },
    {
      "cell_type": "code",
      "metadata": {
        "id": "tM7RtHkJgK3q",
        "colab_type": "code",
        "outputId": "9f047bb7-65f0-4f39-d762-43b5fe375812",
        "colab": {
          "base_uri": "https://localhost:8080/",
          "height": 502
        }
      },
      "source": [
        "#Plot the training error\n",
        "print(len(J_history))\n",
        "\n",
        "plt.figure(figsize=(8, 8))\n",
        "plt.scatter(range(len(J_history_tr)), J_history_tr, c='blue', label = \"Training\")\n",
        "plt.scatter(range(len(J_history_t)), J_history_t, c='red', label = \"Testing\")\n",
        "plt.legend(loc='upper right')\n",
        "plt.show()\n",
        "\n",
        "\n",
        "\n",
        "\n",
        "\n"
      ],
      "execution_count": 0,
      "outputs": [
        {
          "output_type": "stream",
          "text": [
            "62\n"
          ],
          "name": "stdout"
        },
        {
          "output_type": "display_data",
          "data": {
            "image/png": "[encoded data removed]",
            "text/plain": [
              "<Figure size 576x576 with 1 Axes>"
            ]
          },
          "metadata": {
            "tags": [],
            "needs_background": "light"
          }
        }
      ]
    },
    {
      "cell_type": "markdown",
      "metadata": {
        "id": "8hKV-C5NfT_W",
        "colab_type": "text"
      },
      "source": [
        "#2. Plot the training accuracy"
      ]
    },
    {
      "cell_type": "code",
      "metadata": {
        "id": "njZOGHgcgSnV",
        "colab_type": "code",
        "outputId": "3058b176-45dc-4ba8-d5e2-61c8011684f3",
        "colab": {
          "base_uri": "https://localhost:8080/",
          "height": 483
        }
      },
      "source": [
        "#Plot the training accuracy\n",
        "\n",
        "plt.figure(figsize=(8, 8))\n",
        "plt.scatter(range(len(accuracy_train)), accuracy_train, c='blue', label = \"Train\")\n",
        "plt.scatter(range(len(accuracy_test)), accuracy_test, c='red', label = \"Test\")\n",
        "\n",
        "plt.legend(loc='upper right')\n",
        "plt.show()"
      ],
      "execution_count": 0,
      "outputs": [
        {
          "output_type": "display_data",
          "data": {
            "image/png": "[encoded data removed]",
            "text/plain": [
              "<Figure size 576x576 with 1 Axes>"
            ]
          },
          "metadata": {
            "tags": [],
            "needs_background": "light"
          }
        }
      ]
    },
    {
      "cell_type": "markdown",
      "metadata": {
        "id": "gxndhbKrfc9a",
        "colab_type": "text"
      },
      "source": [
        "#3. Final training accuracy"
      ]
    },
    {
      "cell_type": "code",
      "metadata": {
        "id": "CfAAR9RMgXYr",
        "colab_type": "code",
        "outputId": "aea497e5-6e43-46fe-b264-0ea95d9d9f10",
        "colab": {
          "base_uri": "https://localhost:8080/",
          "height": 55
        }
      },
      "source": [
        "#Write down the final training accuracy\n",
        "print(accuracy_train[len(accuracy_train)-1])\n",
        "print(accuracy_test[len(accuracy_test)-1])"
      ],
      "execution_count": 0,
      "outputs": [
        {
          "output_type": "stream",
          "text": [
            "0.6108333333333333\n",
            "0.586\n"
          ],
          "name": "stdout"
        }
      ]
    },
    {
      "cell_type": "markdown",
      "metadata": {
        "id": "ShFaNQYRwV8m",
        "colab_type": "text"
      },
      "source": [
        "#4. Plot the classification example"
      ]
    },
    {
      "cell_type": "code",
      "metadata": {
        "id": "1wnyLMZ5wnxk",
        "colab_type": "code",
        "outputId": "cd6680af-7b70-484c-d777-e8f380327b76",
        "colab": {
          "base_uri": "https://localhost:8080/",
          "height": 350
        }
      },
      "source": [
        "\n",
        "f1 = plt.figure(1)\n",
        "\n",
        "for i in range(10):\n",
        "  label       = listlabel[i]\n",
        "  im_vector   = list_image[:, 1000+listofimg[i]]\n",
        "  im_matrix   = im_vector.reshape((size_row, size_col))\n",
        "\n",
        "  plt.subplot(1, 10, i+1)\n",
        "  plt.title(label)\n",
        "  plt.imshow(im_matrix, cmap='Greys', interpolation='None')\n",
        "\n",
        "  frame   = plt.gca()\n",
        "  frame.axes.get_xaxis().set_visible(False)\n",
        "  frame.axes.get_yaxis().set_visible(False)\n",
        "\n",
        "plt.show()\n",
        "\n",
        "f1 = plt.figure(1)\n",
        "i = 0\n",
        "\n",
        "for i in range(10):\n",
        "  label       = notlistlabel[i]\n",
        "  im_vector   = list_image[:, 1000+notlist[i]]\n",
        "  im_matrix   = im_vector.reshape((size_row, size_col))\n",
        "\n",
        "  plt.subplot(1, 10, i+1)\n",
        "  plt.title(label)\n",
        "  plt.imshow(im_matrix, cmap='Greys', interpolation='None')\n",
        "\n",
        "  frame   = plt.gca()\n",
        "  frame.axes.get_xaxis().set_visible(False)\n",
        "  frame.axes.get_yaxis().set_visible(False)\n",
        "\n",
        "plt.show()\n",
        "\n",
        "\n",
        "    \n"
      ],
      "execution_count": 0,
      "outputs": [
        {
          "output_type": "display_data",
          "data": {
            "image/png": "[encoded data removed]",
            "text/plain": [
              "<Figure size 432x288 with 10 Axes>"
            ]
          },
          "metadata": {
            "tags": [],
            "needs_background": "light"
          }
        },
        {
          "output_type": "stream",
          "text": [
            "인식못함\n"
          ],
          "name": "stdout"
        },
        {
          "output_type": "error",
          "ename": "IndexError",
          "evalue": "ignored",
          "traceback": [
            "\u001b[0;31m---------------------------------------------------------------------------\u001b[0m",
            "\u001b[0;31mIndexError\u001b[0m                                Traceback (most recent call last)",
            "\u001b[0;32m<ipython-input-272-bc2f5387d3cc>\u001b[0m in \u001b[0;36m<module>\u001b[0;34m()\u001b[0m\n\u001b[1;32m     25\u001b[0m     \u001b[0mnotlist\u001b[0m\u001b[0;34m.\u001b[0m\u001b[0mappend\u001b[0m\u001b[0;34m(\u001b[0m\u001b[0mi\u001b[0m\u001b[0;34m)\u001b[0m\u001b[0;34m\u001b[0m\u001b[0;34m\u001b[0m\u001b[0m\n\u001b[1;32m     26\u001b[0m \u001b[0;32mfor\u001b[0m \u001b[0mi\u001b[0m \u001b[0;32min\u001b[0m \u001b[0mrange\u001b[0m\u001b[0;34m(\u001b[0m\u001b[0;36m10\u001b[0m\u001b[0;34m)\u001b[0m\u001b[0;34m:\u001b[0m\u001b[0;34m\u001b[0m\u001b[0;34m\u001b[0m\u001b[0m\n\u001b[0;32m---> 27\u001b[0;31m   \u001b[0mlabel\u001b[0m       \u001b[0;34m=\u001b[0m \u001b[0mkk\u001b[0m\u001b[0;34m[\u001b[0m\u001b[0mi\u001b[0m\u001b[0;34m]\u001b[0m\u001b[0;34m\u001b[0m\u001b[0;34m\u001b[0m\u001b[0m\n\u001b[0m\u001b[1;32m     28\u001b[0m   \u001b[0mim_vector\u001b[0m   \u001b[0;34m=\u001b[0m \u001b[0mlist_image\u001b[0m\u001b[0;34m[\u001b[0m\u001b[0;34m:\u001b[0m\u001b[0;34m,\u001b[0m \u001b[0;36m6000\u001b[0m\u001b[0;34m+\u001b[0m\u001b[0mnotlist\u001b[0m\u001b[0;34m[\u001b[0m\u001b[0mi\u001b[0m\u001b[0;34m]\u001b[0m\u001b[0;34m]\u001b[0m\u001b[0;34m\u001b[0m\u001b[0;34m\u001b[0m\u001b[0m\n\u001b[1;32m     29\u001b[0m   \u001b[0mim_matrix\u001b[0m   \u001b[0;34m=\u001b[0m \u001b[0mim_vector\u001b[0m\u001b[0;34m.\u001b[0m\u001b[0mreshape\u001b[0m\u001b[0;34m(\u001b[0m\u001b[0;34m(\u001b[0m\u001b[0msize_row\u001b[0m\u001b[0;34m,\u001b[0m \u001b[0msize_col\u001b[0m\u001b[0;34m)\u001b[0m\u001b[0;34m)\u001b[0m\u001b[0;34m\u001b[0m\u001b[0;34m\u001b[0m\u001b[0m\n",
            "\u001b[0;31mIndexError\u001b[0m: list index out of range"
          ]
        },
        {
          "output_type": "display_data",
          "data": {
            "text/plain": [
              "<Figure size 432x288 with 0 Axes>"
            ]
          },
          "metadata": {
            "tags": []
          }
        }
      ]
    }
  ]
}