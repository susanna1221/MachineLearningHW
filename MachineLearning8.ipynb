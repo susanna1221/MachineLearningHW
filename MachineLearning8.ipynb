{
  "nbformat": 4,
  "nbformat_minor": 0,
  "metadata": {
    "colab": {
      "name": "MachineLearning8.ipynb",
      "provenance": []
    },
    "kernelspec": {
      "name": "python3",
      "display_name": "Python 3"
    }
  },
  "cells": [
    {
      "cell_type": "code",
      "metadata": {
        "id": "aO3Ch3y_NNHn",
        "colab_type": "code",
        "outputId": "4ac0660d-0891-4fc2-f6f1-59669e1217ac",
        "colab": {
          "resources": {
            "http://localhost:8080/nbextensions/google.colab/files.js": {
              "data": "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",
              "ok": true,
              "headers": [
                [
                  "content-type",
                  "application/javascript"
                ]
              ],
              "status": 200,
              "status_text": ""
            }
          },
          "base_uri": "https://localhost:8080/",
          "height": 79
        }
      },
      "source": [
        "from google.colab import files\n",
        "uploaded = files.upload()"
      ],
      "execution_count": 3,
      "outputs": [
        {
          "output_type": "display_data",
          "data": {
            "text/html": [
              "\n",
              "     <input type=\"file\" id=\"files-75d3dbcd-d595-4711-a545-44968a10e791\" name=\"files[]\" multiple disabled />\n",
              "     <output id=\"result-75d3dbcd-d595-4711-a545-44968a10e791\">\n",
              "      Upload widget is only available when the cell has been executed in the\n",
              "      current browser session. Please rerun this cell to enable.\n",
              "      </output>\n",
              "      <script src=\"/nbextensions/google.colab/files.js\"></script> "
            ],
            "text/plain": [
              "<IPython.core.display.HTML object>"
            ]
          },
          "metadata": {
            "tags": []
          }
        },
        {
          "output_type": "stream",
          "text": [
            "Saving mnist.csv to mnist (2).csv\n"
          ],
          "name": "stdout"
        }
      ]
    },
    {
      "cell_type": "code",
      "metadata": {
        "id": "6k2iZfBJrdee",
        "colab_type": "code",
        "colab": {
          "base_uri": "https://localhost:8080/",
          "height": 69
        },
        "outputId": "b7039eb2-b83a-4f29-aede-3c4d4fcf8e30"
      },
      "source": [
        "import matplotlib.pyplot as plt\n",
        "import numpy as np\n",
        "import csv\n",
        "import copy\n",
        "import math\n",
        "\n",
        "import matplotlib.pyplot as plt\n",
        "import numpy as np\n",
        "\n",
        "file_data   = \"mnist.csv\"\n",
        "handle_file = open(file_data, \"r\")\n",
        "data        = handle_file.readlines()\n",
        "handle_file.close()\n",
        "\n",
        "size_row    = 28    # height of the image\n",
        "size_col    = 28    # width of the image\n",
        "\n",
        "num_image   = len(data)\n",
        "count       = 0     # count for the number of images\n",
        "\n",
        "#\n",
        "# normalize the values of the input data to be [0, 1]\n",
        "#\n",
        "def normalize(data):\n",
        "\n",
        "    data_normalized = (data - min(data)) / (max(data) - min(data))\n",
        "\n",
        "    return(data_normalized)\n",
        "\n",
        "#\n",
        "# example of distance function between two vectors x and y\n",
        "#\n",
        "def distance(x, y):\n",
        "\n",
        "    d = (x - y) ** 2\n",
        "    s = np.sum(d)\n",
        "    # r = np.sqrt(s)\n",
        "\n",
        "    return(s)\n",
        "\n",
        "#\n",
        "# make a matrix each column of which represents an images in a vector form\n",
        "#\n",
        "list_image  = np.empty((size_row * size_col, num_image), dtype=float)\n",
        "list_label  = np.empty(num_image, dtype=int)\n",
        "\n",
        "for line in data:\n",
        "\n",
        "    line_data   = line.split(',')\n",
        "    label       = line_data[0]\n",
        "    im_vector   = np.asfarray(line_data[1:])\n",
        "    im_vector   = normalize(im_vector)\n",
        "\n",
        "    list_label[count]       = label\n",
        "    list_image[:, count]    = im_vector\n",
        "\n",
        "    count += 1\n",
        "\n"
      ],
      "execution_count": 5,
      "outputs": [
        {
          "output_type": "display_data",
          "data": {
            "image/png": "[encoded data removed]",
            "text/plain": [
              "<Figure size 432x288 with 10 Axes>"
            ]
          },
          "metadata": {
            "tags": [],
            "needs_background": "light"
          }
        }
      ]
    },
    {
      "cell_type": "code",
      "metadata": {
        "id": "vA19fIAYeMLX",
        "colab_type": "code",
        "colab": {}
      },
      "source": [
        "#라벨 벡터로\n",
        "NumofLabel = 10\n",
        "labelvector_train = []\n",
        "labelvector_test = []\n",
        "labeltemp = []\n",
        "\n",
        "for i in range(6000):\n",
        "  for j in range(NumofLabel):\n",
        "    if list_label[i] == j:\n",
        "      labeltemp.append(1)\n",
        "    else:\n",
        "      labeltemp.append(0)\n",
        "  labelvector_train.append(copy.deepcopy(labeltemp))\n",
        "  labeltemp.clear()\n",
        "for i in range(4000):\n",
        "  for j in range(NumofLabel):\n",
        "    if list_label[i+6000] == j:\n",
        "      labeltemp.append(1)\n",
        "    else:\n",
        "      labeltemp.append(0)\n",
        "  labelvector_test.append(copy.deepcopy(labeltemp))\n",
        "  labeltemp.clear()"
      ],
      "execution_count": 0,
      "outputs": []
    },
    {
      "cell_type": "code",
      "metadata": {
        "id": "RBU0-uEn9dCx",
        "colab_type": "code",
        "colab": {}
      },
      "source": [
        "#임의의 세타값 설정\n",
        "thetaU=np.random.randn((int)(size_row*size_col/4), (int)(size_row*size_col+1))\n",
        "thetaV=np.random.randn((int)(size_row*size_col/16), (int)(size_row*size_col/4+1))\n",
        "thetaW=np.random.randn(NumofLabel, (int)(size_row*size_col/16+1))\n"
      ],
      "execution_count": 0,
      "outputs": []
    },
    {
      "cell_type": "code",
      "metadata": {
        "id": "z12Tbef7ywZY",
        "colab_type": "code",
        "colab": {}
      },
      "source": [
        "#fully connected and sigmoid calculation\n",
        "def compute_matrix (theta, data):\n",
        "  z = np.dot(data,np.transpose(theta))\n",
        "  sigz = []\n",
        "  for i in range(len(z)):\n",
        "    sigz.append(1.0/(1+np.exp(-z[i])))\n",
        "\n",
        "  return sigz\n",
        " "
      ],
      "execution_count": 0,
      "outputs": []
    },
    {
      "cell_type": "code",
      "metadata": {
        "id": "eGNwjc92rS9B",
        "colab_type": "code",
        "colab": {}
      },
      "source": [
        "#데이터 분류\n",
        "list_train = []\n",
        "for i in range(6000):\n",
        "    label       = list_label[i]\n",
        "    im_vector   = list_image[:, i]\n",
        "    im_vector = im_vector.tolist()\n",
        "    im_vector.insert(0,1)\n",
        "    list_train.append(copy.deepcopy(im_vector))\n",
        "\n",
        "list_test = []\n",
        "label_test = []\n",
        "for i in range(4000):\n",
        "    label       = list_label[6000+i]\n",
        "    im_vector   = list_image[:, 6000+i]\n",
        "    im_vector = im_vector.tolist()\n",
        "    im_vector.insert(0,1)\n",
        "    list_test.append(copy.deepcopy(im_vector))\n",
        "    label_test.append(copy.deepcopy(label))\n",
        "\n",
        "\n"
      ],
      "execution_count": 0,
      "outputs": []
    },
    {
      "cell_type": "code",
      "metadata": {
        "id": "F1uPUYBLhivg",
        "colab_type": "code",
        "colab": {}
      },
      "source": [
        "#Compute prediction\n",
        "def compute_prediction(thetaU, thetaV, thetaW, data):\n",
        "  prediction = compute_matrix(thetaU, data)\n",
        "  prediction.insert(0,1)\n",
        "  y = copy.deepcopy(prediction)\n",
        "  prediction = compute_matrix(thetaV, prediction)\n",
        "  prediction.insert(0,1)\n",
        "  z = copy.deepcopy(prediction)\n",
        "  prediction = compute_matrix(thetaW, prediction)\n",
        "\n",
        "  return prediction, z, y\n",
        "\n",
        "  J = 0\n",
        "\n",
        "#Get prediction list\n",
        "def get_prediction_list(thetaU,thetaV, thetaW, data):\n",
        "  prediction_list = []\n",
        "  z_list = []\n",
        "  y_list = []\n",
        "  for i in range(len(data)):\n",
        "    prediction, z, y = compute_prediction(thetaU,thetaV, thetaW, data[i])\n",
        "    prediction_list.append(prediction)\n",
        "    z_list.append(z)\n",
        "    y_list.append(y)\n",
        "  return prediction_list, z_list, y_list\n",
        "\n",
        "# Objective Function\n",
        "def compute_cost(thetaU,thetaV, thetaW, data, l):\n",
        "  prediction, z, y = get_prediction_list(thetaU,thetaV, thetaW, data)\n",
        "  m = len(prediction)\n",
        "\n",
        "  J = 0.0\n",
        "  for i in range(int(m)):\n",
        "    for j in range(NumofLabel):\n",
        "      J += -l[i][j]*np.log(prediction[i][j]) - (1-l[i][j])*np.log(1-prediction[i][j])\n",
        "  J = J/m\n",
        "\n",
        "  return J\n",
        "\n",
        "\n",
        "def inv_sig(x):\n",
        "  x = np.array(x)\n",
        "  x = x.flatten()\n",
        "  res = 0\n",
        "  for i in x:\n",
        "    res = res + i*(i-i)\n",
        "  return res\n",
        "\n"
      ],
      "execution_count": 0,
      "outputs": []
    },
    {
      "cell_type": "code",
      "metadata": {
        "id": "wObbT7bju8T4",
        "colab_type": "code",
        "colab": {}
      },
      "source": [
        "#제일 큰 값 찾기\n",
        "\n",
        "def find_big(list):\n",
        "  big = list[0]\n",
        "  result = 0\n",
        "  for i in range(len(list)):\n",
        "    if list[i] > big:\n",
        "      big = list[i]\n",
        "      result = i\n",
        "  return result\n"
      ],
      "execution_count": 0,
      "outputs": []
    },
    {
      "cell_type": "code",
      "metadata": {
        "id": "kcLYT6PflXik",
        "colab_type": "code",
        "colab": {}
      },
      "source": [
        "# get theta, J_history, accuracy_history\n",
        "def back_prop(thetaU,thetaV, thetaW, data, l, alpha, num):\n",
        "  J_history=[]\n",
        "  #J_history.append(compute_cost(thetaU,thetaV, thetaW, data, l))\n",
        "  accuracy_history = []\n",
        "\n",
        "  for i in range(num):\n",
        "    prediction, z, y = get_prediction_list(thetaU,thetaV, thetaW, data)\n",
        "    prediction = np.array(prediction)\n",
        "    l = np.array(l)\n",
        "    loss = prediction - l\n",
        "    t1 = loss.T\n",
        "\n",
        "    #thetaW 업데이트\n",
        "    thetaW = thetaW - (alpha * np.dot(t1, z))\n",
        "    #thetaV 업데이트\n",
        "    t = np.dot(thetaW.T, t1)\n",
        "    t2 = inv_sig(z) * t\n",
        "    t = np.dot(t2, y)\n",
        "    thetaV = thetaV - (alpha * t[1:len(t)])\n",
        "\n",
        "      \n",
        "    #thetaU 업데이트\n",
        "    t = np.dot(thetaV.T, t2[1:len(t2)])\n",
        "    t = inv_sig(y) * t\n",
        "    t = np.dot(t, data)\n",
        "    thetaU = thetaU - (alpha * t[1:len(t)])\n",
        "\n",
        "\n",
        "    #J_history.append(copy.deepcopy(compute_cost(thetaU, thetaV, thetaW, data, l)))\n",
        "    temp = 0 \n",
        "    for j in range(len(prediction)):\n",
        "      if l[j][find_big(prediction[j])] == 1:\n",
        "        temp = temp + 1\n",
        "    accuracy_history.append(copy.deepcopy(temp))\n",
        "\n",
        "\n",
        "  return thetaW, thetaV, thetaU, J_history, accuracy_history\n"
      ],
      "execution_count": 0,
      "outputs": []
    },
    {
      "cell_type": "code",
      "metadata": {
        "id": "gpblWCnQo-bW",
        "colab_type": "code",
        "colab": {
          "base_uri": "https://localhost:8080/",
          "height": 55
        },
        "outputId": "2d668dde-798a-4fc7-b67a-905e2dc4af50"
      },
      "source": [
        "alpha = [0.01, 0.0003, 0.0001]\n",
        "labelvector_train = np.array(labelvector_train,dtype=np.float32)\n",
        "list_train = np.array(list_train,dtype=np.float32)\n",
        "thetaW, thetaV, thetaU, J_history0, accuracy_history0 = back_prop(thetaU,thetaV, thetaW, list_train, labelvector_train, alpha[0], 15)\n",
        "thetaW, thetaV, thetaU, J_history1 ,accuracy_history1 = back_prop(thetaU,thetaV, thetaW, list_train, labelvector_train, alpha[1], 200)\n",
        "#thetaW, thetaV, thetaU, J_history2 ,accuracy_history2 = back_prop(thetaU,thetaV, thetaW, list_train, labelvector_train, alpha[2], 50)\n",
        "\n",
        "\n",
        "#J_history = J_history0+J_history1\n",
        "#accuracy_history = accuracy_history0+accuracy_history1\n",
        "\n",
        "#for i in range(len(accaracy_history)):\n",
        "#  accaracy_history\n"
      ],
      "execution_count": 231,
      "outputs": [
        {
          "output_type": "stream",
          "text": [
            "/usr/local/lib/python3.6/dist-packages/ipykernel_launcher.py:6: RuntimeWarning: overflow encountered in exp\n",
            "  \n"
          ],
          "name": "stderr"
        }
      ]
    },
    {
      "cell_type": "code",
      "metadata": {
        "id": "RS0sGKQlcK_m",
        "colab_type": "code",
        "colab": {}
      },
      "source": [
        "accuracy_history = accuracy_history0 + accuracy_history1 \n",
        "accuracy_h = []\n",
        "for i in range(len(accuracy_history)):\n",
        "  accuracy_h.append(accuracy_history[i]/6000)\n"
      ],
      "execution_count": 0,
      "outputs": []
    },
    {
      "cell_type": "code",
      "metadata": {
        "id": "-n0tBsvKdGcZ",
        "colab_type": "code",
        "colab": {}
      },
      "source": [
        "p,a,b = get_prediction_list(thetaU, thetaV, thetaW, list_test)\n",
        "\n",
        "temp = 0\n",
        "listofimg= []\n",
        "notlistlabel=[]\n",
        "for i in range(len(p)):\n",
        "  if labelvector_test[i][find_big(p[i])] == 1:\n",
        "    temp = temp + 1\n",
        "    listofimg.append(i)\n",
        "\n",
        "  else:\n",
        "    notlistlabel.append(copy.deepcopy(labelvector_test[i]))\n",
        "\n",
        "\n",
        "acc_test = temp\n"
      ],
      "execution_count": 0,
      "outputs": []
    },
    {
      "cell_type": "markdown",
      "metadata": {
        "id": "qQFAgKdo1-Mc",
        "colab_type": "text"
      },
      "source": [
        "#1. Plot the training error"
      ]
    },
    {
      "cell_type": "code",
      "metadata": {
        "id": "tM7RtHkJgK3q",
        "colab_type": "code",
        "colab": {}
      },
      "source": [
        "#Plot the training error\n",
        "\n",
        "plt.figure(figsize=(8, 8))\n",
        "plt.scatter(range(4), J_history0, c='blue', label = \"Training\")\n",
        "plt.legend(loc='upper right')\n",
        "plt.show()\n",
        "\n",
        "\n",
        "\n",
        "\n",
        "\n"
      ],
      "execution_count": 0,
      "outputs": []
    },
    {
      "cell_type": "markdown",
      "metadata": {
        "id": "8hKV-C5NfT_W",
        "colab_type": "text"
      },
      "source": [
        "#2. Plot the training accuracy"
      ]
    },
    {
      "cell_type": "code",
      "metadata": {
        "id": "njZOGHgcgSnV",
        "colab_type": "code",
        "outputId": "bd961e9d-4905-4e9c-aee1-78c9d4e273df",
        "colab": {
          "base_uri": "https://localhost:8080/",
          "height": 483
        }
      },
      "source": [
        "#Plot the training accuracy\n",
        "\n",
        "plt.figure(figsize=(8, 8))\n",
        "plt.scatter(range(215), accuracy_h, c='blue', label = \"Train\")\n",
        "#plt.scatter(range(150001), accuracy_rate2, c='red', label = \"Test\")\n",
        "\n",
        "plt.legend(loc='upper right')\n",
        "plt.show()"
      ],
      "execution_count": 240,
      "outputs": [
        {
          "output_type": "display_data",
          "data": {
            "image/png": "[encoded data removed]",
            "text/plain": [
              "<Figure size 576x576 with 1 Axes>"
            ]
          },
          "metadata": {
            "tags": [],
            "needs_background": "light"
          }
        }
      ]
    },
    {
      "cell_type": "markdown",
      "metadata": {
        "id": "gxndhbKrfc9a",
        "colab_type": "text"
      },
      "source": [
        "#3. Final training accuracy"
      ]
    },
    {
      "cell_type": "code",
      "metadata": {
        "id": "CfAAR9RMgXYr",
        "colab_type": "code",
        "outputId": "aea497e5-6e43-46fe-b264-0ea95d9d9f10",
        "colab": {
          "base_uri": "https://localhost:8080/",
          "height": 55
        }
      },
      "source": [
        "#Write down the final training accuracy\n",
        "print(accuracy_h[len(accuracy_h)-1])\n",
        "print(acc_test/4000)"
      ],
      "execution_count": 241,
      "outputs": [
        {
          "output_type": "stream",
          "text": [
            "0.6108333333333333\n",
            "0.586\n"
          ],
          "name": "stdout"
        }
      ]
    },
    {
      "cell_type": "markdown",
      "metadata": {
        "id": "ShFaNQYRwV8m",
        "colab_type": "text"
      },
      "source": [
        "#4. Plot the classification example"
      ]
    },
    {
      "cell_type": "code",
      "metadata": {
        "id": "1wnyLMZ5wnxk",
        "colab_type": "code",
        "colab": {
          "base_uri": "https://localhost:8080/",
          "height": 160
        },
        "outputId": "9c7eaae9-5320-4cef-ed34-00712768a73a"
      },
      "source": [
        "\n",
        "f1 = plt.figure(1)\n",
        "\n",
        "for i in range(10):\n",
        "  label       = label_test[listofimg[i]]\n",
        "  im_vector   = list_image[:, 6000+listofimg[i]]\n",
        "  im_matrix   = im_vector.reshape((size_row, size_col))\n",
        "\n",
        "  plt.subplot(1, 10, i+1)\n",
        "  plt.title(label)\n",
        "  plt.imshow(im_matrix, cmap='Greys', interpolation='None')\n",
        "\n",
        "  frame   = plt.gca()\n",
        "  frame.axes.get_xaxis().set_visible(False)\n",
        "  frame.axes.get_yaxis().set_visible(False)\n",
        "\n",
        "plt.show()\n",
        "\n",
        "f1 = plt.figure(1)\n",
        "i = 0\n",
        "notlist=[]\n",
        "print(\"인식못함\")\n",
        "for i in range(4000):\n",
        "  if i not in listofimg:\n",
        "    notlist.append(i)\n",
        "for i in range(10):\n",
        "  label       = notlistlabel[i]\n",
        "  im_vector   = list_image[:, 6000+notlist[i]]\n",
        "  im_matrix   = im_vector.reshape((size_row, size_col))\n",
        "\n",
        "  plt.subplot(1, 10, i+1)\n",
        "  plt.title(label)\n",
        "  plt.imshow(im_matrix, cmap='Greys', interpolation='None')\n",
        "\n",
        "  frame   = plt.gca()\n",
        "  frame.axes.get_xaxis().set_visible(False)\n",
        "  frame.axes.get_yaxis().set_visible(False)\n",
        "\n",
        "plt.show()\n",
        "\n",
        "\n",
        "    \n"
      ],
      "execution_count": 268,
      "outputs": [
        {
          "output_type": "display_data",
          "data": {
            "image/png": "[encoded data removed]",
            "text/plain": [
              "<Figure size 432x288 with 10 Axes>"
            ]
          },
          "metadata": {
            "tags": [],
            "needs_background": "light"
          }
        },
        {
          "output_type": "stream",
          "text": [
            "인식못함\n"
          ],
          "name": "stdout"
        },
        {
          "output_type": "display_data",
          "data": {
            "image/png": "[encoded data removed]",
            "text/plain": [
              "<Figure size 432x288 with 10 Axes>"
            ]
          },
          "metadata": {
            "tags": [],
            "needs_background": "light"
          }
        }
      ]
    }
  ]
}