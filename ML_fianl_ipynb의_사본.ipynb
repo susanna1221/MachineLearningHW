{
  "nbformat": 4,
  "nbformat_minor": 0,
  "metadata": {
    "colab": {
      "name": "ML_fianl.ipynb의 사본",
      "provenance": []
    },
    "kernelspec": {
      "name": "python3",
      "display_name": "Python 3"
    }
  },
  "cells": [
    {
      "cell_type": "code",
      "metadata": {
        "id": "mXIql680kqKy",
        "colab_type": "code",
        "outputId": "56423fae-9697-4efd-fd00-20727932bb0f",
        "colab": {
          "base_uri": "https://localhost:8080/",
          "height": 131
        }
      },
      "source": [
        "from google.colab import drive\n",
        "\n",
        "drive.mount('/content/gdrive')"
      ],
      "execution_count": 1,
      "outputs": [
        {
          "output_type": "stream",
          "text": [
            "Go to this URL in a browser: https://accounts.google.com/o/oauth2/auth?client_id=947318989803-6bn6qk8qdgf4n4g3pfee6491hc0brc4i.apps.googleusercontent.com&redirect_uri=urn%3aietf%3awg%3aoauth%3a2.0%3aoob&response_type=code&scope=email%20https%3a%2f%2fwww.googleapis.com%2fauth%2fdocs.test%20https%3a%2f%2fwww.googleapis.com%2fauth%2fdrive%20https%3a%2f%2fwww.googleapis.com%2fauth%2fdrive.photos.readonly%20https%3a%2f%2fwww.googleapis.com%2fauth%2fpeopleapi.readonly\n",
            "\n",
            "Enter your authorization code:\n",
            "··········\n",
            "Mounted at /content/gdrive\n"
          ],
          "name": "stdout"
        }
      ]
    },
    {
      "cell_type": "code",
      "metadata": {
        "id": "D6-tcYkTxjh9",
        "colab_type": "code",
        "outputId": "f59c1383-e432-4ed0-a545-0df5e9c25cf9",
        "colab": {
          "base_uri": "https://localhost:8080/",
          "height": 92
        }
      },
      "source": [
        "import copy\n",
        "import numpy as np\n",
        "import re\n",
        "import nltk\n",
        "from sklearn.datasets import load_files\n",
        "nltk.download('stopwords')\n",
        "nltk.download('wordnet')\n",
        "import pickle\n",
        "from nltk.corpus import stopwords\n",
        "from nltk.stem import WordNetLemmatizer\n",
        "from sklearn.feature_extraction.text import CountVectorizer\n",
        "from sklearn.feature_extraction.text import TfidfTransformer\n",
        "from sklearn.model_selection import train_test_split\n",
        "import matplotlib.pyplot as plt\n"
      ],
      "execution_count": 2,
      "outputs": [
        {
          "output_type": "stream",
          "text": [
            "[nltk_data] Downloading package stopwords to /root/nltk_data...\n",
            "[nltk_data]   Unzipping corpora/stopwords.zip.\n",
            "[nltk_data] Downloading package wordnet to /root/nltk_data...\n",
            "[nltk_data]   Unzipping corpora/wordnet.zip.\n"
          ],
          "name": "stdout"
        }
      ]
    },
    {
      "cell_type": "code",
      "metadata": {
        "id": "HtS7elafk1V3",
        "colab_type": "code",
        "colab": {}
      },
      "source": [
        "\n",
        "\n",
        "\n",
        "review_data = load_files(r\"/content/gdrive/My Drive/movie_review/movie_review\")\n",
        "X, y = review_data.data, review_data.target\n",
        "\n",
        "documents = []\n",
        "\n",
        "stemmer = WordNetLemmatizer()\n",
        "\n",
        "for sen in range(0, len(X)):\n",
        "    # Remove all the special characters\n",
        "    document = re.sub(r'\\W', ' ', str(X[sen]))\n",
        "    \n",
        "    # remove all single characters\n",
        "    document = re.sub(r'\\s+[a-zA-Z]\\s+', ' ', document)\n",
        "    \n",
        "    # Remove single characters from the start\n",
        "    document = re.sub(r'\\^[a-zA-Z]\\s+', ' ', document) \n",
        "    \n",
        "    # Substituting multiple spaces with single space\n",
        "    document = re.sub(r'\\s+', ' ', document, flags=re.I)\n",
        "    \n",
        "    # Removing prefixed 'b'\n",
        "    document = re.sub(r'^b\\s+', '', document)\n",
        "    \n",
        "    # Converting to Lowercase\n",
        "    document = document.lower()\n",
        "    \n",
        "    # Lemmatization\n",
        "    document = document.split()\n",
        "    document = [stemmer.lemmatize(word) for word in document]\n",
        "    document = ' '.join(document)\n",
        "    \n",
        "    documents.append(document)\n",
        "\n",
        "vectorizer = CountVectorizer(max_features=2000, min_df=50, max_df=0.7, stop_words=stopwords.words('english'))\n",
        "X = vectorizer.fit_transform(documents).toarray()\n",
        "\n",
        "tfidfconverter = TfidfTransformer()\n",
        "X = tfidfconverter.fit_transform(X).toarray()\n",
        "\n",
        "X_train, X_test, y_train, y_test = train_test_split(X, y, test_size=0.3, shuffle=False)\n"
      ],
      "execution_count": 0,
      "outputs": []
    },
    {
      "cell_type": "code",
      "metadata": {
        "id": "zTFs7XRJ4NOT",
        "colab_type": "code",
        "outputId": "853313a4-70a5-4fa3-d508-bd23097292ee",
        "colab": {
          "base_uri": "https://localhost:8080/",
          "height": 56
        }
      },
      "source": [
        "\n",
        "class MLP(object):\n",
        "    \n",
        "    @staticmethod\n",
        "    def sigmoid(x):\n",
        "        return 1/(1+np.power(np.e, -x))\n",
        "\n",
        "    @staticmethod\n",
        "    def identity(x):\n",
        "        return x\n",
        "\n",
        "    @staticmethod\n",
        "    def inv_sig(x):\n",
        "        tmp = MLP.sigmoid(x)\n",
        "        return tmp*(1-tmp)\n",
        "\n",
        "\n",
        "\n",
        "    def __init__(self, **kwargs):\n",
        "\n",
        "\n",
        "        self.layers = kwargs['layers']\n",
        "        self.activate = [MLP.identity]\n",
        "        self.weights = [1]\n",
        "        self.lr = 0.0001\n",
        "        self.lam = 0.000001\n",
        "\n",
        "        for i in range(1, len(self.layers)):\n",
        "          if (i == 1):\n",
        "            self.weights.append(np.random.normal(0, 1, (self.layers[i-1],self.layers[i])))\n",
        "          elif (i == len(self.layers)-1):\n",
        "            self.weights.append(np.random.normal(0, 1, (self.layers[i-1]+1,self.layers[i])))\n",
        "          else:\n",
        "            self.weights.append(np.random.normal(0, 1, (self.layers[i-1]+1,self.layers[i])))\n",
        "\n",
        "        self.weights_e = []\n",
        "        for i in range(1, len(self.weights[1:len(self.weights)])):\n",
        "          for j in self.weights[i]:\n",
        "            for k in j:\n",
        "              self.weights_e.append(k)\n",
        "        self.weights_e = np.array(self.weights_e)\n",
        "\n",
        "       \n",
        "  \n",
        "    def feed_forward(self, xs):\n",
        "\n",
        "        self.U = [xs]\n",
        "        z = []\n",
        "\n",
        "        for i in range(1, len(self.layers)):\n",
        "            u = self.U[i-1].dot(self.weights[i])\n",
        "            u = MLP.sigmoid(u)\n",
        "            u = u.tolist()\n",
        "            for i in u:\n",
        "              if len(i) is not 1:\n",
        "                i.insert(0,1.0)\n",
        "            u = np.array(u)\n",
        "            self.U.append(u)\n",
        "        \n",
        "        for i in range(len(self.U[-1])):\n",
        "          np.delete([1],self.U[-1][i])\n",
        "        return self.U[-1]\n",
        "\n",
        "\n",
        "    def back_propagate(self, xs, ys):\n",
        "\n",
        "        pred_ys = self.feed_forward(xs)\n",
        "        self.D = []\n",
        "\n",
        "        for i in reversed(range(1,len(self.layers))):\n",
        "            if i == len(self.layers) - 1:\n",
        "                d = pred_ys - ys\n",
        "            else:\n",
        "                d = self.inv_sig(self.U[i])*(self.D[-1].dot(self.weights[i+1].T))\n",
        "\n",
        "\n",
        "            dW = self.U[i-1].T.dot(d)\n",
        "            if (np.shape(dW)) != (np.shape(self.weights[i])):\n",
        "                dW = dW.T\n",
        "                dW = dW[1:len(dW)]\n",
        "                dW = dW.T\n",
        "            \n",
        "            self.weights[i] -= self.lr*(dW + self.lam * self.weights[i])\n",
        "            if np.shape(d)[1] is not 1:\n",
        "                d = d.T\n",
        "                d = d[1:len(d)]\n",
        "                d= d.T\n",
        "            self.D.append(d)\n",
        "        return\n",
        "\n",
        "    def evaluate(self, xs, ys):\n",
        "        pred_ys = self.feed_forward(xs)\n",
        "        pred_ys_e = pred_ys.flatten()\n",
        "        ys_e = ys.flatten()\n",
        "        \n",
        "        loss = np.mean(-ys_e * np.log(pred_ys_e) - (1 - ys_e) * np.log(1 - pred_ys_e)) + self.lam/2 * np.mean(self.weights_e*self.weights_e)\n",
        "        return loss\n",
        "\n",
        "    def get_accuracy(self, xs, ys):\n",
        "        pred_ys = self.feed_forward(xs)\n",
        "        count = 0\n",
        "        for i in range(len(pred_ys)):\n",
        "          if pred_ys[i][0] >= 0.5:\n",
        "            if ys[i][0] == 1:\n",
        "              count += 1\n",
        "          else:\n",
        "            if ys[i][0] == 0:\n",
        "              count += 1\n",
        "        return count\n",
        "    \n",
        "\n",
        "if __name__ == '__main__':\n",
        "    \n",
        "    model = MLP(layers=[2000, 500, 150, 50, 10, 1])\n",
        "    train_label = []\n",
        "    test_label = []\n",
        "    for i in range(len(X_train)):\n",
        "      train_label.append([y_train[i]])\n",
        "    for i in range(len(X_test)):\n",
        "      test_label.append([y_test[i]])\n",
        "    xs = np.array(X_train)\n",
        "    ys = np.array(train_label)\n",
        "    xs_t = np.array(X_test)\n",
        "    ys_t = np.array(test_label)\n",
        "\n",
        "\n",
        "    pred_ys = model.feed_forward(xs)\n",
        "    loss_h_tr = []\n",
        "    loss_h_t = []\n",
        "    acc_h_tr = []\n",
        "    acc_h_t = []\n",
        "    for i in range(8000):\n",
        "        model.back_propagate(xs, ys)\n",
        "        loss_h_tr.append(copy.deepcopy(model.evaluate(xs, ys)))\n",
        "        loss_h_t.append(copy.deepcopy(model.evaluate(xs_t, ys_t)))\n",
        "        acc_h_tr.append(copy.deepcopy(model.get_accuracy(xs, ys)))\n",
        "        acc_h_t.append(copy.deepcopy(model.get_accuracy(xs_t, ys_t)))\n",
        "\n",
        "        if (i+1) % 500 == 0:\n",
        "            error = model.evaluate(xs, ys)\n",
        "            print('ITER={:05d}, RMSE={:.4f}'.format(i+1, error))\n",
        "            \n",
        "    y_pred_train = model.feed_forward(xs)\n",
        "    y_pred_test = model.feed_forward(xs_t)\n",
        "    \n",
        "    "
      ],
      "execution_count": 0,
      "outputs": [
        {
          "output_type": "stream",
          "text": [
            "/usr/local/lib/python3.6/dist-packages/ipykernel_launcher.py:61: DeprecationWarning: using a non-integer array as obj in delete will result in an error in the future\n"
          ],
          "name": "stderr"
        }
      ]
    },
    {
      "cell_type": "markdown",
      "metadata": {
        "id": "b9dLIsj6sqlw",
        "colab_type": "text"
      },
      "source": [
        "#1. Plot the loss curve"
      ]
    },
    {
      "cell_type": "code",
      "metadata": {
        "id": "5z7VaehfD8Zm",
        "colab_type": "code",
        "outputId": "01ec9519-60e6-4cb0-9365-d56988f1e7b0",
        "colab": {
          "base_uri": "https://localhost:8080/",
          "height": 483
        }
      },
      "source": [
        "plt.figure(figsize=(8, 8))\n",
        "plt.scatter(range(len(loss_h_tr)), loss_h_tr, c='blue', label = \"Training\")\n",
        "plt.scatter(range(len(loss_h_t)), loss_h_t, c='red', label = \"Testing\")\n",
        "plt.legend(loc='upper right')\n",
        "plt.show()\n",
        "\n",
        "\n",
        "\n",
        "\n",
        "\n",
        "\n",
        "\n",
        "\n",
        "\n",
        "\n",
        "\n",
        "\n",
        "\n",
        "\n",
        "\n",
        "\n",
        "\n",
        "\n",
        "\n"
      ],
      "execution_count": 6,
      "outputs": [
        {
          "output_type": "display_data",
          "data": {
            "image/png": "[encoded data removed]",
            "text/plain": [
              "<Figure size 576x576 with 1 Axes>"
            ]
          },
          "metadata": {
            "tags": [],
            "needs_background": "light"
          }
        }
      ]
    },
    {
      "cell_type": "markdown",
      "metadata": {
        "id": "y-PCvkZfstk7",
        "colab_type": "text"
      },
      "source": [
        "#2. Plot the training accuracy"
      ]
    },
    {
      "cell_type": "code",
      "metadata": {
        "id": "tI8svNNWEUHH",
        "colab_type": "code",
        "outputId": "2eb2b816-2fbf-4c1a-8f51-e52b8190b7ff",
        "colab": {
          "base_uri": "https://localhost:8080/",
          "height": 483
        }
      },
      "source": [
        "#Plot the training accuracy\n",
        "\n",
        "acc_r_tr = []\n",
        "acc_r_t = []\n",
        "for i in acc_h_tr:\n",
        "  acc_r_tr.append(copy.deepcopy(i/len(X_train)))\n",
        "for i in acc_h_t:\n",
        "  acc_r_t.append(copy.deepcopy(i/len(X_test)))\n",
        "\n",
        "\n",
        "\n",
        "plt.figure(figsize=(8, 8))\n",
        "plt.scatter(range(len(acc_r_tr)),  acc_r_tr, c='blue', label = \"Train\")\n",
        "plt.scatter(range(len(acc_r_t)),  acc_r_t, c='red', label = \"Test\")\n",
        "\n",
        "plt.legend(loc='upper right')\n",
        "plt.show()\n",
        "\n",
        "\n",
        "\n",
        "\n",
        "\n",
        "\n",
        "\n",
        "\n",
        "\n",
        "\n",
        "\n",
        "\n"
      ],
      "execution_count": 7,
      "outputs": [
        {
          "output_type": "display_data",
          "data": {
            "image/png": "[encoded data removed]",
            "text/plain": [
              "<Figure size 576x576 with 1 Axes>"
            ]
          },
          "metadata": {
            "tags": [],
            "needs_background": "light"
          }
        }
      ]
    },
    {
      "cell_type": "markdown",
      "metadata": {
        "id": "oW753SWTsxcy",
        "colab_type": "text"
      },
      "source": [
        "#3.  Plot the quantitative results"
      ]
    },
    {
      "cell_type": "code",
      "metadata": {
        "id": "IbxOOWxGspKc",
        "colab_type": "code",
        "outputId": "537f2390-3ed7-4f70-a1cf-23acfe39ef58",
        "colab": {
          "base_uri": "https://localhost:8080/",
          "height": 251
        }
      },
      "source": [
        "from sklearn.metrics import classification_report, confusion_matrix, accuracy_score\n",
        "y_p_test = []\n",
        "y_p_train = []\n",
        "y_pred_train = y_pred_train.flatten()\n",
        "y_pred_test = y_pred_test.flatten()\n",
        "for i in y_pred_test:\n",
        "  if i >= 0.5:\n",
        "    y_p_test.append(1)\n",
        "  else:\n",
        "    y_p_test.append(0)\n",
        "for i in y_pred_train:\n",
        "  if i >= 0.5:\n",
        "    y_p_train.append(1)\n",
        "  else:\n",
        "    y_p_train.append(0)\n",
        "\n",
        "\n",
        "\n",
        "print(confusion_matrix(y_train,y_p_train))\n",
        "print(classification_report(y_train,y_p_train))\n",
        "print(accuracy_score(y_train, y_p_train))\n",
        "\n",
        "print(confusion_matrix(y_test,y_p_test))\n",
        "print(classification_report(y_test,y_p_test))\n",
        "print(accuracy_score(y_test, y_p_test))\n",
        "\n",
        "\n",
        "\n",
        "\n",
        "\n",
        "\n",
        "\n",
        "\n",
        "\n",
        "\n",
        "\n",
        "\n",
        "\n",
        "\n",
        "\n",
        "\n"
      ],
      "execution_count": 9,
      "outputs": [
        {
          "output_type": "error",
          "ename": "NameError",
          "evalue": "ignored",
          "traceback": [
            "\u001b[0;31m---------------------------------------------------------------------------\u001b[0m",
            "\u001b[0;31mNameError\u001b[0m                                 Traceback (most recent call last)",
            "\u001b[0;32m<ipython-input-9-04e3225f1c78>\u001b[0m in \u001b[0;36m<module>\u001b[0;34m()\u001b[0m\n\u001b[1;32m      2\u001b[0m \u001b[0my_p_test\u001b[0m \u001b[0;34m=\u001b[0m \u001b[0;34m[\u001b[0m\u001b[0;34m]\u001b[0m\u001b[0;34m\u001b[0m\u001b[0;34m\u001b[0m\u001b[0m\n\u001b[1;32m      3\u001b[0m \u001b[0my_p_train\u001b[0m \u001b[0;34m=\u001b[0m \u001b[0;34m[\u001b[0m\u001b[0;34m]\u001b[0m\u001b[0;34m\u001b[0m\u001b[0;34m\u001b[0m\u001b[0m\n\u001b[0;32m----> 4\u001b[0;31m \u001b[0my_pred_train\u001b[0m \u001b[0;34m=\u001b[0m \u001b[0my_pred_train\u001b[0m\u001b[0;34m.\u001b[0m\u001b[0mflatten\u001b[0m\u001b[0;34m(\u001b[0m\u001b[0;34m)\u001b[0m\u001b[0;34m\u001b[0m\u001b[0;34m\u001b[0m\u001b[0m\n\u001b[0m\u001b[1;32m      5\u001b[0m \u001b[0my_pred_test\u001b[0m \u001b[0;34m=\u001b[0m \u001b[0my_pred_test\u001b[0m\u001b[0;34m.\u001b[0m\u001b[0mflatten\u001b[0m\u001b[0;34m(\u001b[0m\u001b[0;34m)\u001b[0m\u001b[0;34m\u001b[0m\u001b[0;34m\u001b[0m\u001b[0m\n\u001b[1;32m      6\u001b[0m \u001b[0;32mfor\u001b[0m \u001b[0mi\u001b[0m \u001b[0;32min\u001b[0m \u001b[0my_pred_test\u001b[0m\u001b[0;34m:\u001b[0m\u001b[0;34m\u001b[0m\u001b[0;34m\u001b[0m\u001b[0m\n",
            "\u001b[0;31mNameError\u001b[0m: name 'y_pred_train' is not defined"
          ]
        }
      ]
    },
    {
      "cell_type": "markdown",
      "metadata": {
        "id": "8IeB3yrks1Nm",
        "colab_type": "text"
      },
      "source": [
        "#4. Final training accuracy"
      ]
    },
    {
      "cell_type": "code",
      "metadata": {
        "id": "CfAAR9RMgXYr",
        "colab_type": "code",
        "outputId": "7bde5519-683e-40a6-cf9a-9612aca8b759",
        "colab": {
          "base_uri": "https://localhost:8080/",
          "height": 73
        }
      },
      "source": [
        "#Write down the final training accuracy\n",
        "print(acc_r_tr[len(acc_r_tr)-1])\n",
        "print(acc_r_t[len(acc_r_t)-1])\n",
        "\n",
        "\n",
        "\n",
        "\n"
      ],
      "execution_count": 11,
      "outputs": [
        {
          "output_type": "stream",
          "text": [
            "1.0\n",
            "0.7670549084858569\n",
            "0.7953410981697171\n"
          ],
          "name": "stdout"
        }
      ]
    }
  ]
}