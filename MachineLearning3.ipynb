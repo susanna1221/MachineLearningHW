{
  "nbformat": 4,
  "nbformat_minor": 0,
  "metadata": {
    "colab": {
      "name": "MachineLearning3.ipynb",
      "provenance": []
    },
    "kernelspec": {
      "name": "python3",
      "display_name": "Python 3"
    }
  },
  "cells": [
    {
      "cell_type": "code",
      "metadata": {
        "id": "LSXyVrILKMD2",
        "colab_type": "code",
        "colab": {
          "base_uri": "https://localhost:8080/",
          "height": 1000
        },
        "outputId": "ed00b2d5-dda5-470d-e57c-a208e74d41dd"
      },
      "source": [
        "import numpy as np \n",
        "from matplotlib import pyplot as plt \n",
        "import csv\n",
        "import copy\n",
        "\n",
        "#compute prediction\n",
        "def compute_prediction (theta,data_array, h):\n",
        "  m=float(len(data_array))\n",
        "  theta_array=[]\n",
        "  theta_array.append(theta)\n",
        "  theta_array=np.transpose(theta_array)\n",
        "  theta_array=np.array(theta_array,dtype=float)\n",
        "  prediction=np.dot(data_array,theta_array)\n",
        "\n",
        "  return prediction\n",
        "\n",
        "# Objective Function\n",
        "def compute_cost(theta,data_array, h):\n",
        "  m=float(len(h))\n",
        "  prediction = compute_prediction(theta,data_array, h)\n",
        "  J=(1/2)*(1/m)*(np.sum(np.square(prediction-h)))\n",
        "\n",
        "  return J\n",
        "\n",
        "# get theta, theta_history, J_history\n",
        "def compute_theta(theta, data_array, h, alpha, num):\n",
        "  m = float(len(data_array))\n",
        "  data_array_trans=copy.deepcopy(np.transpose(data_array))\n",
        "  data_x=[]\n",
        "  data_y=[]\n",
        "  data_z=[]\n",
        "  data_x.append(copy.deepcopy(data_array_trans[1]))\n",
        "  data_x=np.transpose(data_x)\n",
        "  data_y.append(copy.deepcopy(data_array_trans[2]))\n",
        "  data_y=np.transpose(data_y)\n",
        "  data_z.append(copy.deepcopy(data_array_trans[3]))\n",
        "  data_z=np.transpose(data_z)\n",
        "\n",
        "\n",
        "  J_history=[]\n",
        "  theta_history=[]\n",
        "\n",
        "  J_history.append(compute_cost(theta,data_array, h))\n",
        "  theta_history.append(copy.deepcopy(theta))\n",
        "\n",
        "\n",
        "  for i in range(num):\n",
        "    prediction=compute_prediction(theta, data_array, h)\n",
        "    loss= prediction - h\n",
        "    \n",
        "\n",
        "    t0 = alpha*(1/m)*np.sum(loss)\n",
        "    t1 = alpha*(1/m)*np.sum(loss*data_x)\n",
        "    t2= alpha*(1/m)*np.sum(loss*data_y)\n",
        "    t3= alpha*(1/m)*np.sum(loss*data_z)\n",
        "  \n",
        "    \n",
        "    theta[0]-=t0\n",
        "    theta[1]-=t1\n",
        "    theta[2]-=t2\n",
        "    theta[3]-=t3\n",
        "  \n",
        "   \n",
        "\n",
        "    J_history.append(compute_cost(theta,data_array, h))\n",
        "    theta_history.append(copy.deepcopy(theta))\n",
        "\n",
        "  return theta, theta_history, J_history\n",
        "\n",
        "#데이터 저장하기\n",
        "nofdata = 3\n",
        "#data_train데이터\n",
        "train_x=[]\n",
        "train_y=[]\n",
        "train_z=[]\n",
        "train_h=[]\n",
        "#data_test데이터\n",
        "test_x=[]\n",
        "test_y=[]\n",
        "test_z=[]\n",
        "test_h=[]\n",
        "\n",
        "with open('data_train.csv', newline='') as myfile:\n",
        "    reader  = csv.reader(myfile, delimiter=',')\n",
        "    for i in reader:\n",
        "      train_x.append(float(copy.deepcopy(i[0]))/10)\n",
        "      train_y.append(float(copy.deepcopy(i[1]))/10)\n",
        "      train_z.append(float(copy.deepcopy(i[2]))/10)\n",
        "      train_h.append([float(copy.deepcopy(i[3]))/10])\n",
        "\n",
        "\n",
        "train_data_array=[]\n",
        "temp=[]\n",
        "for i in range(len(train_x)):\n",
        "  temp.append(1)\n",
        "  temp.append(copy.deepcopy(train_x[i]))\n",
        "  temp.append(copy.deepcopy(train_y[i]))\n",
        "  temp.append(copy.deepcopy(train_z[i]))\n",
        "  train_data_array.append(copy.deepcopy(temp))\n",
        "  temp.clear()\n",
        "\n",
        "\n",
        "with open('data_test.csv', newline='') as myfile:\n",
        "    reader  = csv.reader(myfile, delimiter=',')\n",
        "    for i in reader:\n",
        "      test_x.append(float(copy.deepcopy(i[0]))/10)\n",
        "      test_y.append(float(copy.deepcopy(i[1]))/10)\n",
        "      test_z.append(float(copy.deepcopy(i[2]))/10)\n",
        "      test_h.append([float(copy.deepcopy(i[3]))/10])\n",
        "\n",
        "test_data_array=[]\n",
        "for i in range(len(test_x)):\n",
        "  temp.append(1)\n",
        "  temp.append(copy.deepcopy(test_x[i]))\n",
        "  temp.append(copy.deepcopy(test_y[i]))\n",
        "  temp.append(copy.deepcopy(test_z[i]))\n",
        "  test_data_array.append(copy.deepcopy(temp))\n",
        "  temp.clear()\n",
        "\n",
        "train_data_array = np.array(train_data_array,dtype=float)\n",
        "train_h = np.array(train_h,dtype=float)\n",
        "test_data_array = np.array(test_data_array,dtype=float)\n",
        "test_h = np.array(test_h,dtype=float)\n",
        "\n",
        "\n",
        "#Linear Model, f(x,y,z) = theta0 + theta1*x + theta2*y + theta3*z\n",
        "theta=[1.0, 1.0, 1.0, 1.0]\n",
        "theta = np.array(theta)\n",
        "alpha=0.001\n",
        "num=20000\n",
        "\n",
        "\n",
        "theta, theta_h, cost_h = compute_theta(theta, train_data_array, train_h, alpha, num)\n",
        "theta0=[]\n",
        "theta1=[]\n",
        "theta2=[]\n",
        "theta3=[]\n",
        "\n",
        "for i in range(len(theta_h)):\n",
        "  theta0.append(copy.deepcopy(theta_h[i][0]))\n",
        "  theta1.append(copy.deepcopy(theta_h[i][1]))\n",
        "  theta2.append(copy.deepcopy(theta_h[i][2]))\n",
        "  theta3.append(copy.deepcopy(theta_h[i][3]))\n",
        "\n",
        "#graph1\n",
        "xla=len(theta_h)\n",
        "plt.figure(figsize=(8, 8))\n",
        "\n",
        "plt.scatter(range(xla),theta0, c='black')\n",
        "plt.scatter(range(xla),theta1, c='red')\n",
        "plt.scatter(range(xla),theta2, c='green')\n",
        "plt.scatter(range(xla),theta3, c='blue')\n",
        "plt.xlabel('iteration')\n",
        "\n",
        "plt.show()\n",
        "\n",
        "\n",
        "#graph2\n",
        "plt.figure(figsize=(8, 8))\n",
        "\n",
        "plt.scatter(range(xla),cost_h, c='blue')\n",
        "plt.xlabel('iteration')\n",
        "plt.ylabel('J-training')\n",
        "\n",
        "plt.show\n",
        "\n",
        "#graph3\n",
        "test_J_history=[]\n",
        "for i in range(len(theta_h)):\n",
        "  test_J_history.append(compute_cost(theta_h[i], test_data_array, test_h))\n",
        "\n",
        "plt.figure(figsize=(8, 8))\n",
        "\n",
        "plt.scatter(range(xla),test_J_history, c='red')\n",
        "plt.xlabel('iteration')\n",
        "plt.ylabel('J-testing')\n",
        "\n",
        "plt.show\n",
        "\n",
        "\n",
        "        \n"
      ],
      "execution_count": 132,
      "outputs": [
        {
          "output_type": "display_data",
          "data": {
            "image/png": "[encoded data removed]",
            "text/plain": [
              "<Figure size 576x576 with 1 Axes>"
            ]
          },
          "metadata": {
            "tags": [],
            "needs_background": "light"
          }
        },
        {
          "output_type": "execute_result",
          "data": {
            "text/plain": [
              "<function matplotlib.pyplot.show>"
            ]
          },
          "metadata": {
            "tags": []
          },
          "execution_count": 132
        },
        {
          "output_type": "display_data",
          "data": {
            "image/png": "[encoded data removed]",
            "text/plain": [
              "<Figure size 576x576 with 1 Axes>"
            ]
          },
          "metadata": {
            "tags": [],
            "needs_background": "light"
          }
        },
        {
          "output_type": "display_data",
          "data": {
            "image/png": "[encoded data removed]",
            "text/plain": [
              "<Figure size 576x576 with 1 Axes>"
            ]
          },
          "metadata": {
            "tags": [],
            "needs_background": "light"
          }
        }
      ]
    }
  ]
}